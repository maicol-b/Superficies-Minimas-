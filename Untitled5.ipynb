{
  "cells": [
    {
      "cell_type": "markdown",
      "metadata": {
        "id": "view-in-github",
        "colab_type": "text"
      },
      "source": [
        "<a href=\"https://colab.research.google.com/github/maicol-b/Superficies-minimas-/blob/main/Untitled5.ipynb\" target=\"_parent\"><img src=\"https://colab.research.google.com/assets/colab-badge.svg\" alt=\"Open In Colab\"/></a>"
      ]
    },
    {
      "cell_type": "markdown",
      "metadata": {
        "id": "3e7BX0iF1c22"
      },
      "source": [
        "\n",
        "# **Propiedades geometricas de las superficies**\n",
        "\n"
      ]
    },
    {
      "cell_type": "markdown",
      "metadata": {
        "id": "x7SP2_YF1UYW"
      },
      "source": [
        ">Objetivo: </strong> El objetivo de este cuaderno es obtener expresiones para los coeficientes de la primera , segunda forma fundamental. Así , como  para la curvatura de Gauss , la curvatura normal y  los símbolos de Chistifell dado la  parametrizacion de una superficie esto con el fin de ver propiedades geométricas de las superficies en particular lo relacionado con las superficies mínimas ,para realizar este objetivo vamos a  utilizar  el lenguaje de programación Python.  </p>\n"
      ]
    },
    {
      "cell_type": "markdown",
      "metadata": {
        "id": "XOBwmUc61Y9p"
      },
      "source": [
        "<h2>Indice</h2>\n",
        "\n",
        "<div class=\"alert alert-block alert-info\" style=\"margin-top: 20px\">\n",
        "<ul>\n",
        "  <li>Parametrizacion de una superficie </li>\n",
        "  <li>coeficientes de la primera forma fundamental </li>\n",
        "  <li>coheficientes de  la segunda forma fundamental </li>\n",
        "  <li>curvatura de gauss de una superficie </li>\n",
        "  <li>curvatura normal de una superficie </li>\n",
        "  <li>simbolos de chistofell</li>\n",
        "  <li>Ecuación de las lineas asintóticas  de una superficie  </li>\n",
        "  <li>Ecuación de las lineas de curvatura  de una superficie  </li>\n",
        "  <li>Ecuaciones de las geodésicas de una superficie  </li>\n",
        "  <li>Ejemplo</li>\n",
        "</ul>\n",
        "\n",
        "</div>\n",
        "<hr>"
      ]
    },
    {
      "cell_type": "markdown",
      "metadata": {
        "id": "ic1oxvSF2dfU"
      },
      "source": [
        "Un subconjunto  $S⊂R^3$  es una superficie regular si para toso $p \\in S $  existe un entorno $V\\in R^3$  y una aplicación   $X: U \\subset R^2 \\rightarrow R^3 \\cap V $ con  $ X(u, v) =\n",
        "(x(u, v), y(u, v), z(x, y))$.Para el cual \n",
        "\n",
        "\n",
        "*  $X$ es una funcion diferenciable es decir  sus funciones componentes $x(u, v), y(u, v), z(u, v) $ tienen derivadas parciales de todos los ordenes \n",
        "*    $X$  es un homeomorfismo \n",
        "*  Para todo  $q \\in U $ , la diferencial $dX_q$ es inyectiva \n",
        "\n",
        "ya obtenido la parametrizacion de la superficie el se debe ingresar en siguiente codigo \n"
      ]
    },
    {
      "cell_type": "code",
      "execution_count": null,
      "metadata": {
        "colab": {
          "base_uri": "https://localhost:8080/"
        },
        "id": "O23JIaMasO3W",
        "outputId": "270232e8-3152-4f49-d79d-bbdd9c54a873"
      },
      "outputs": [
        {
          "name": "stdout",
          "output_type": "stream",
          "text": [
            "Digite parametrizacion de la superficie en funcion de  u,v :\n",
            "x(u,v)\n",
            "g(v)*cos(u)\n",
            "y(u,v)\n",
            "g(v)*sin(u)\n",
            "z(u,v)\n",
            "f(v)\n"
          ]
        }
      ],
      "source": [
        "print('Digite parametrizacion de la superficie en funcion de  u,v :')\n",
        "\n",
        "print('x(u,v)')\n",
        "expresion1= input()\n",
        "print('y(u,v)')\n",
        "expresion2= input()\n",
        "print('z(u,v)')\n",
        "expresion3=input()"
      ]
    },
    {
      "cell_type": "markdown",
      "metadata": {
        "id": "uJlQ2kJG5GlS"
      },
      "source": [
        "::Vamos a utilizar la librería Pandas sympy ,numpy  de Python para realizar los calculos de una forma simbolica  . Le ponemos un alias <strong>pd</strong> para que sea más fácil utilizarla:"
      ]
    },
    {
      "cell_type": "code",
      "execution_count": null,
      "metadata": {
        "id": "JLipB7bF8SPN"
      },
      "outputs": [],
      "source": [
        "import sympy\n",
        "from sympy.simplify.fu import as_f_sign_1\n",
        "from sympy import *\n",
        "import os \n",
        "import code \n",
        "from sympy.printing import latex\n",
        "import pandas as pd \n",
        "import numpy as np\n",
        "\n",
        "\n",
        "init_printing(pretty_print=True  ,wrap_line=False )\n",
        "half=Rational(1/2)\n",
        "\n",
        "#variables \n",
        "x,y,u,v,t=symbols('x y u v t')\n",
        "#constantes \n",
        "a,b,c,a_1,a_2,b_1,b_2,c_1,c_2,k,p,q,r =symbols('a b c a_1 a_2 b_1 b_2 c_1 c_2 k p q r ')\n",
        "#funciones \n",
        "X,X_u,X_v,f,g =symbols('X X_u X_v f g ')"
      ]
    },
    {
      "cell_type": "markdown",
      "metadata": {
        "id": "rbdZrQJh4MKS"
      },
      "source": [
        "# Parametrizacion de la superficie "
      ]
    },
    {
      "cell_type": "code",
      "execution_count": null,
      "metadata": {
        "colab": {
          "base_uri": "https://localhost:8080/",
          "height": 56
        },
        "id": "rCHA80B5AQwj",
        "outputId": "ea68da1b-592d-466e-f904-bb10855b35ef"
      },
      "outputs": [
        {
          "output_type": "stream",
          "name": "stdout",
          "text": [
            "Parametrizacion de la superficie X(u,v)\n"
          ]
        },
        {
          "output_type": "execute_result",
          "data": {
            "text/plain": [
              "[g(v)⋅cos(u), g(v)⋅sin(u), f(v)]"
            ],
            "image/png": "[encoded data removed]",
            "text/latex": "$\\displaystyle \\left[ g{\\left(v \\right)} \\cos{\\left(u \\right)}, \\  g{\\left(v \\right)} \\sin{\\left(u \\right)}, \\  f{\\left(v \\right)}\\right]$"
          },
          "metadata": {},
          "execution_count": 19
        }
      ],
      "source": [
        "A_1=simplify(expresion1)\n",
        "A_2=simplify(expresion2)\n",
        "A_3=simplify(expresion3)\n",
        "\n",
        "Parametrizacion=[A_1,A_2,A_3]\n",
        "print('Parametrizacion de la superficie X(u,v)')\n",
        "Parametrizacion\n"
      ]
    },
    {
      "cell_type": "markdown",
      "metadata": {
        "id": "IMl5TDEO4jKJ"
      },
      "source": [
        "# Vectores tangentes y esxpresiones para $X_{uu}$ , $X_{uv}$ y $X_{vv}$"
      ]
    },
    {
      "cell_type": "code",
      "execution_count": null,
      "metadata": {
        "id": "rHiEd81sDj50"
      },
      "outputs": [],
      "source": [
        "x_u= diff(expresion1,u,1)\n",
        "y_u= diff(expresion2,u,1)\n",
        "z_u= diff(expresion3,u,1)\n",
        "\n",
        "#-----------------------------------------------------------------------\n",
        "x_v= diff(expresion1,v,1)\n",
        "y_v= diff(expresion2,v,1)\n",
        "z_v= diff(expresion3,v,1)\n",
        "#-----------------------------------------------------------------------\n",
        "x_uu= diff(expresion1,u,2)\n",
        "y_uu= diff(expresion2,u,2)\n",
        "z_uu= diff(expresion3,u,2)\n",
        "#-----------------------------------------------------------------------\n",
        "x_vv= diff(expresion1,v,2)\n",
        "y_vv= diff(expresion2,v,2)\n",
        "z_vv= diff(expresion3,v,2)\n",
        "#-----------------------------------------------------------------------\n",
        "x_uv= diff(expresion1,u,1,v,1)\n",
        "y_uv= diff(expresion2,u,1,v,1)\n",
        "z_uv= diff(expresion3,u,1,v,1)\n",
        "\n",
        "\n",
        "#-----------------------------------------------------------------------\n",
        "A_4=simplify(x_u)\n",
        "A_5=simplify(y_u)\n",
        "A_6=simplify(z_u)\n",
        "\n",
        "#-----------------------------------------------------------------------\n",
        "\n",
        "A_7=simplify(x_v)\n",
        "A_8=simplify(y_v)\n",
        "A_9=simplify(z_v)\n",
        "#-----------------------------------------------------------------------\n",
        "\n",
        "A_10=simplify(x_uu)\n",
        "A_11=simplify(y_uu)\n",
        "A_12=simplify(z_uu)\n",
        "#-----------------------------------------------------------------------\n",
        "\n",
        "A_13=simplify(x_vv)\n",
        "A_14=simplify(y_vv)\n",
        "A_15=simplify(z_vv)\n",
        "#-----------------------------------------------------------------------\n",
        "\n",
        "A_16=simplify(x_uv)\n",
        "A_17=simplify(y_uv)\n",
        "A_18=simplify(z_uv)\n",
        "#-----------------------------------------------------------------------\n",
        "\n"
      ]
    },
    {
      "cell_type": "markdown",
      "metadata": {
        "id": "LXaEEa8mNozg"
      },
      "source": [
        "$X_u$"
      ]
    },
    {
      "cell_type": "code",
      "execution_count": null,
      "metadata": {
        "colab": {
          "base_uri": "https://localhost:8080/",
          "height": 38
        },
        "id": "cAkVs1--by-q",
        "outputId": "32c057f1-bc27-49ac-99fa-1ce5c228ec30"
      },
      "outputs": [
        {
          "output_type": "execute_result",
          "data": {
            "text/plain": [
              "[-g(v)⋅sin(u), g(v)⋅cos(u), 0]"
            ],
            "image/png": "[encoded data removed]",
            "text/latex": "$\\displaystyle \\left[ - g{\\left(v \\right)} \\sin{\\left(u \\right)}, \\  g{\\left(v \\right)} \\cos{\\left(u \\right)}, \\  0\\right]$"
          },
          "metadata": {},
          "execution_count": 21
        }
      ],
      "source": [
        "Derivadau= [A_4,A_5,A_6]\n",
        "Derivadau\n",
        "\n"
      ]
    },
    {
      "cell_type": "markdown",
      "metadata": {
        "id": "NdCT2OQkNr_Z"
      },
      "source": [
        "$X_v$"
      ]
    },
    {
      "cell_type": "code",
      "execution_count": null,
      "metadata": {
        "colab": {
          "base_uri": "https://localhost:8080/",
          "height": 58
        },
        "id": "Rd6P4xl63DUc",
        "outputId": "558772d4-cde0-4c8e-cdc9-58c06a403e89"
      },
      "outputs": [
        {
          "output_type": "execute_result",
          "data": {
            "text/plain": [
              "⎡       d                d         d       ⎤\n",
              "⎢cos(u)⋅──(g(v)), sin(u)⋅──(g(v)), ──(f(v))⎥\n",
              "⎣       dv               dv        dv      ⎦"
            ],
            "image/png": "[encoded data removed]",
            "text/latex": "$\\displaystyle \\left[ \\cos{\\left(u \\right)} \\frac{d}{d v} g{\\left(v \\right)}, \\  \\sin{\\left(u \\right)} \\frac{d}{d v} g{\\left(v \\right)}, \\  \\frac{d}{d v} f{\\left(v \\right)}\\right]$"
          },
          "metadata": {},
          "execution_count": 22
        }
      ],
      "source": [
        "Derivadav=[A_7,A_8,A_9]\n",
        "Derivadav"
      ]
    },
    {
      "cell_type": "markdown",
      "metadata": {
        "id": "gNFKqQJBNwAI"
      },
      "source": [
        "$X_{uu}$"
      ]
    },
    {
      "cell_type": "code",
      "execution_count": null,
      "metadata": {
        "colab": {
          "base_uri": "https://localhost:8080/",
          "height": 38
        },
        "id": "Yrz-lLja3K7G",
        "outputId": "396a9484-c682-4b01-8c47-5b52e97f4f2b"
      },
      "outputs": [
        {
          "output_type": "execute_result",
          "data": {
            "text/plain": [
              "[-g(v)⋅cos(u), -g(v)⋅sin(u), 0]"
            ],
            "image/png": "[encoded data removed]",
            "text/latex": "$\\displaystyle \\left[ - g{\\left(v \\right)} \\cos{\\left(u \\right)}, \\  - g{\\left(v \\right)} \\sin{\\left(u \\right)}, \\  0\\right]$"
          },
          "metadata": {},
          "execution_count": 23
        }
      ],
      "source": [
        "Derivadauu=[A_10,A_11,A_12]\n",
        "Derivadauu"
      ]
    },
    {
      "cell_type": "markdown",
      "metadata": {
        "id": "BdLWIw45N4NF"
      },
      "source": [
        "$X_{vv}$"
      ]
    },
    {
      "cell_type": "code",
      "execution_count": null,
      "metadata": {
        "colab": {
          "base_uri": "https://localhost:8080/",
          "height": 58
        },
        "id": "lSXiBPKD3Ud7",
        "outputId": "606bfb46-dc1b-4b56-b8f3-ad2d5b6b1bda"
      },
      "outputs": [
        {
          "output_type": "execute_result",
          "data": {
            "text/plain": [
              "⎡         2                 2          2      ⎤\n",
              "⎢        d                 d          d       ⎥\n",
              "⎢cos(u)⋅───(g(v)), sin(u)⋅───(g(v)), ───(f(v))⎥\n",
              "⎢         2                 2          2      ⎥\n",
              "⎣       dv                dv         dv       ⎦"
            ],
            "image/png": "[encoded data removed]",
            "text/latex": "$\\displaystyle \\left[ \\cos{\\left(u \\right)} \\frac{d^{2}}{d v^{2}} g{\\left(v \\right)}, \\  \\sin{\\left(u \\right)} \\frac{d^{2}}{d v^{2}} g{\\left(v \\right)}, \\  \\frac{d^{2}}{d v^{2}} f{\\left(v \\right)}\\right]$"
          },
          "metadata": {},
          "execution_count": 24
        }
      ],
      "source": [
        "Derivadavv=[A_13,A_14,A_15]\n",
        "Derivadavv"
      ]
    },
    {
      "cell_type": "markdown",
      "metadata": {
        "id": "v25Ckp8PN__N"
      },
      "source": [
        "$X_{uv}$"
      ]
    },
    {
      "cell_type": "code",
      "execution_count": null,
      "metadata": {
        "colab": {
          "base_uri": "https://localhost:8080/",
          "height": 58
        },
        "id": "KbHUO2tk3ZKk",
        "outputId": "57a8d24c-072e-4484-da8d-bf38f4d2dd7c"
      },
      "outputs": [
        {
          "output_type": "execute_result",
          "data": {
            "text/plain": [
              "⎡        d                d          ⎤\n",
              "⎢-sin(u)⋅──(g(v)), cos(u)⋅──(g(v)), 0⎥\n",
              "⎣        dv               dv         ⎦"
            ],
            "image/png": "[encoded data removed]",
            "text/latex": "$\\displaystyle \\left[ - \\sin{\\left(u \\right)} \\frac{d}{d v} g{\\left(v \\right)}, \\  \\cos{\\left(u \\right)} \\frac{d}{d v} g{\\left(v \\right)}, \\  0\\right]$"
          },
          "metadata": {},
          "execution_count": 25
        }
      ],
      "source": [
        "Derivadauv=[A_16,A_17,A_18]\n",
        "Derivadauv"
      ]
    },
    {
      "cell_type": "markdown",
      "source": [
        "$X_{uu}+X_{vv}$"
      ],
      "metadata": {
        "id": "-N2DNUatwPKj"
      }
    },
    {
      "cell_type": "code",
      "source": [
        "[A_10+A_13,A_11+A_14,A_12+A_15]\n"
      ],
      "metadata": {
        "colab": {
          "base_uri": "https://localhost:8080/",
          "height": 58
        },
        "id": "nnTGCH2IwOIh",
        "outputId": "69fea00f-b8b7-4078-86b6-7ce03733d11c"
      },
      "execution_count": null,
      "outputs": [
        {
          "output_type": "execute_result",
          "data": {
            "text/plain": [
              "⎡                        2                                2          2      ⎤\n",
              "⎢                       d                                d          d       ⎥\n",
              "⎢-g(v)⋅cos(u) + cos(u)⋅───(g(v)), -g(v)⋅sin(u) + sin(u)⋅───(g(v)), ───(f(v))⎥\n",
              "⎢                        2                                2          2      ⎥\n",
              "⎣                      dv                               dv         dv       ⎦"
            ],
            "image/png": "[encoded data removed]",
            "text/latex": "$\\displaystyle \\left[ - g{\\left(v \\right)} \\cos{\\left(u \\right)} + \\cos{\\left(u \\right)} \\frac{d^{2}}{d v^{2}} g{\\left(v \\right)}, \\  - g{\\left(v \\right)} \\sin{\\left(u \\right)} + \\sin{\\left(u \\right)} \\frac{d^{2}}{d v^{2}} g{\\left(v \\right)}, \\  \\frac{d^{2}}{d v^{2}} f{\\left(v \\right)}\\right]$"
          },
          "metadata": {},
          "execution_count": 26
        }
      ]
    },
    {
      "cell_type": "markdown",
      "metadata": {
        "id": "6drlWQ6v3l9k"
      },
      "source": [
        "# **Coeficientes de la primera forma fundamental**\n",
        "\n",
        "\n",
        "\n",
        "\n"
      ]
    },
    {
      "cell_type": "code",
      "execution_count": null,
      "metadata": {
        "id": "WMS-KRB--_-p"
      },
      "outputs": [],
      "source": [
        "E=x_u*x_u+y_u*y_u+z_u*z_u\n",
        "F=x_u*x_v+y_u*y_v+z_u*z_v\n",
        "G=x_v*x_v+y_v*y_v+z_v*z_v\n",
        "\n"
      ]
    },
    {
      "cell_type": "code",
      "execution_count": null,
      "metadata": {
        "colab": {
          "base_uri": "https://localhost:8080/"
        },
        "id": "GydVOzQ24Egg",
        "outputId": "80d26a40-df8c-4617-90d6-5c6edf5a9092"
      },
      "outputs": [
        {
          "output_type": "stream",
          "name": "stdout",
          "text": [
            "E\n"
          ]
        },
        {
          "output_type": "execute_result",
          "data": {
            "text/plain": [
              " 2   \n",
              "g (v)"
            ],
            "image/png": "[encoded data removed]",
            "text/latex": "$\\displaystyle g^{2}{\\left(v \\right)}$"
          },
          "metadata": {},
          "execution_count": 28
        }
      ],
      "source": [
        "print('E')\n",
        "E=simplify(E)\n",
        "E"
      ]
    },
    {
      "cell_type": "code",
      "execution_count": null,
      "metadata": {
        "colab": {
          "base_uri": "https://localhost:8080/"
        },
        "id": "f96iQ-HL50Rv",
        "outputId": "4b992a45-d6f1-422b-a864-1efb4c26acf6"
      },
      "outputs": [
        {
          "output_type": "stream",
          "name": "stdout",
          "text": [
            "F\n"
          ]
        },
        {
          "output_type": "execute_result",
          "data": {
            "text/plain": [
              "0"
            ],
            "image/png": "[encoded data removed]",
            "text/latex": "$\\displaystyle 0$"
          },
          "metadata": {},
          "execution_count": 29
        }
      ],
      "source": [
        "print('F')\n",
        "F=simplify(F)\n",
        "F"
      ]
    },
    {
      "cell_type": "code",
      "execution_count": null,
      "metadata": {
        "id": "qT4aJ_za56lZ",
        "colab": {
          "base_uri": "https://localhost:8080/"
        },
        "outputId": "f5a275fa-2625-4e7f-8c12-86ade8c2c05b"
      },
      "outputs": [
        {
          "output_type": "stream",
          "name": "stdout",
          "text": [
            "G\n"
          ]
        },
        {
          "output_type": "execute_result",
          "data": {
            "text/plain": [
              "          2             2\n",
              "⎛d       ⎞    ⎛d       ⎞ \n",
              "⎜──(f(v))⎟  + ⎜──(g(v))⎟ \n",
              "⎝dv      ⎠    ⎝dv      ⎠ "
            ],
            "image/png": "[encoded data removed]",
            "text/latex": "$\\displaystyle \\left(\\frac{d}{d v} f{\\left(v \\right)}\\right)^{2} + \\left(\\frac{d}{d v} g{\\left(v \\right)}\\right)^{2}$"
          },
          "metadata": {},
          "execution_count": 30
        }
      ],
      "source": [
        "print('G')\n",
        "G=simplify(G)\n",
        "G"
      ]
    },
    {
      "cell_type": "markdown",
      "metadata": {
        "id": "Gav_0qes8TY3"
      },
      "source": [
        "# Vector Normal"
      ]
    },
    {
      "cell_type": "code",
      "execution_count": null,
      "metadata": {
        "colab": {
          "base_uri": "https://localhost:8080/"
        },
        "id": "kjgepyzP8Yl4",
        "outputId": "b1b889c4-396b-4983-ee7d-bca7432f5d19"
      },
      "outputs": [
        {
          "output_type": "stream",
          "name": "stdout",
          "text": [
            "N(u,v)\n"
          ]
        },
        {
          "output_type": "execute_result",
          "data": {
            "text/plain": [
              "⎡                      d                                         d                                     d                     ⎤\n",
              "⎢          g(v)⋅cos(u)⋅──(f(v))                      g(v)⋅sin(u)⋅──(f(v))                        -g(v)⋅──(g(v))              ⎥\n",
              "⎢                      dv                                        dv                                    dv                    ⎥\n",
              "⎢────────────────────────────────────────, ────────────────────────────────────────, ────────────────────────────────────────⎥\n",
              "⎢     ___________________________________       ___________________________________       ___________________________________⎥\n",
              "⎢    ╱ ⎛          2             2⎞             ╱ ⎛          2             2⎞             ╱ ⎛          2             2⎞       ⎥\n",
              "⎢   ╱  ⎜⎛d       ⎞    ⎛d       ⎞ ⎟  2         ╱  ⎜⎛d       ⎞    ⎛d       ⎞ ⎟  2         ╱  ⎜⎛d       ⎞    ⎛d       ⎞ ⎟  2    ⎥\n",
              "⎢  ╱   ⎜⎜──(f(v))⎟  + ⎜──(g(v))⎟ ⎟⋅g (v)     ╱   ⎜⎜──(f(v))⎟  + ⎜──(g(v))⎟ ⎟⋅g (v)     ╱   ⎜⎜──(f(v))⎟  + ⎜──(g(v))⎟ ⎟⋅g (v) ⎥\n",
              "⎣╲╱    ⎝⎝dv      ⎠    ⎝dv      ⎠ ⎠         ╲╱    ⎝⎝dv      ⎠    ⎝dv      ⎠ ⎠         ╲╱    ⎝⎝dv      ⎠    ⎝dv      ⎠ ⎠       ⎦"
            ],
            "image/png": "[encoded data removed]",
            "text/latex": "$\\displaystyle \\left[ \\frac{g{\\left(v \\right)} \\cos{\\left(u \\right)} \\frac{d}{d v} f{\\left(v \\right)}}{\\sqrt{\\left(\\left(\\frac{d}{d v} f{\\left(v \\right)}\\right)^{2} + \\left(\\frac{d}{d v} g{\\left(v \\right)}\\right)^{2}\\right) g^{2}{\\left(v \\right)}}}, \\  \\frac{g{\\left(v \\right)} \\sin{\\left(u \\right)} \\frac{d}{d v} f{\\left(v \\right)}}{\\sqrt{\\left(\\left(\\frac{d}{d v} f{\\left(v \\right)}\\right)^{2} + \\left(\\frac{d}{d v} g{\\left(v \\right)}\\right)^{2}\\right) g^{2}{\\left(v \\right)}}}, \\  - \\frac{g{\\left(v \\right)} \\frac{d}{d v} g{\\left(v \\right)}}{\\sqrt{\\left(\\left(\\frac{d}{d v} f{\\left(v \\right)}\\right)^{2} + \\left(\\frac{d}{d v} g{\\left(v \\right)}\\right)^{2}\\right) g^{2}{\\left(v \\right)}}}\\right]$"
          },
          "metadata": {},
          "execution_count": 31
        }
      ],
      "source": [
        "N_1=(y_u*z_v-y_v*z_u)/sqrt(E*G-F**2)\n",
        "N_2=(z_u*x_v-x_u*z_v)/sqrt(E*G-F**2)\n",
        "N_3=(x_u*y_v-y_u*x_v)/sqrt(E*G-F**2)\n",
        "A_22=simplify(N_1)\n",
        "A_23=simplify(N_2)\n",
        "A_24=simplify(N_3)\n",
        "N=[A_22,A_23,A_24]\n",
        "print('N(u,v)')\n",
        "N\n"
      ]
    },
    {
      "cell_type": "markdown",
      "metadata": {
        "id": "f9ckZGmy8GjK"
      },
      "source": [
        "# Coeficientes de la segunda forma fundamental "
      ]
    },
    {
      "cell_type": "code",
      "execution_count": null,
      "metadata": {
        "id": "taL3v82U8LIn"
      },
      "outputs": [],
      "source": [
        "e=N_1*x_uu+N_2*y_uu+N_3*z_uu\n",
        "f=N_1*x_uv+N_2*y_uv+N_3*z_uv\n",
        "g=N_1*x_vv+N_2*y_vv+N_3*z_vv\n"
      ]
    },
    {
      "cell_type": "markdown",
      "source": [
        ""
      ],
      "metadata": {
        "id": "uhzJ7_mO-UBn"
      }
    },
    {
      "cell_type": "code",
      "execution_count": null,
      "metadata": {
        "colab": {
          "base_uri": "https://localhost:8080/"
        },
        "id": "G1j02wIPDfO3",
        "outputId": "2b706955-d207-4a2c-b1b6-37094fc1a817"
      },
      "outputs": [
        {
          "output_type": "stream",
          "name": "stdout",
          "text": [
            "e\n"
          ]
        },
        {
          "output_type": "execute_result",
          "data": {
            "text/plain": [
              "            2       2    d                             2       2    d                \n",
              "           g (v)⋅sin (u)⋅──(f(v))                     g (v)⋅cos (u)⋅──(f(v))         \n",
              "                         dv                                         dv               \n",
              "- ──────────────────────────────────────── - ────────────────────────────────────────\n",
              "       ___________________________________        ___________________________________\n",
              "      ╱ ⎛          2             2⎞              ╱ ⎛          2             2⎞       \n",
              "     ╱  ⎜⎛d       ⎞    ⎛d       ⎞ ⎟  2          ╱  ⎜⎛d       ⎞    ⎛d       ⎞ ⎟  2    \n",
              "    ╱   ⎜⎜──(f(v))⎟  + ⎜──(g(v))⎟ ⎟⋅g (v)      ╱   ⎜⎜──(f(v))⎟  + ⎜──(g(v))⎟ ⎟⋅g (v) \n",
              "  ╲╱    ⎝⎝dv      ⎠    ⎝dv      ⎠ ⎠          ╲╱    ⎝⎝dv      ⎠    ⎝dv      ⎠ ⎠       "
            ],
            "image/png": "[encoded data removed]",
            "text/latex": "$\\displaystyle - \\frac{g^{2}{\\left(v \\right)} \\sin^{2}{\\left(u \\right)} \\frac{d}{d v} f{\\left(v \\right)}}{\\sqrt{\\left(\\left(\\frac{d}{d v} f{\\left(v \\right)}\\right)^{2} + \\left(\\frac{d}{d v} g{\\left(v \\right)}\\right)^{2}\\right) g^{2}{\\left(v \\right)}}} - \\frac{g^{2}{\\left(v \\right)} \\cos^{2}{\\left(u \\right)} \\frac{d}{d v} f{\\left(v \\right)}}{\\sqrt{\\left(\\left(\\frac{d}{d v} f{\\left(v \\right)}\\right)^{2} + \\left(\\frac{d}{d v} g{\\left(v \\right)}\\right)^{2}\\right) g^{2}{\\left(v \\right)}}}$"
          },
          "metadata": {},
          "execution_count": 33
        }
      ],
      "source": [
        "print('e')\n",
        "#e=simplify(e)\n",
        "e"
      ]
    },
    {
      "cell_type": "code",
      "execution_count": null,
      "metadata": {
        "colab": {
          "base_uri": "https://localhost:8080/"
        },
        "id": "i5Bs7J00Dlf8",
        "outputId": "50e0ab75-f821-46c3-a04d-b388c2bfb751"
      },
      "outputs": [
        {
          "output_type": "stream",
          "name": "stdout",
          "text": [
            "f\n"
          ]
        },
        {
          "output_type": "execute_result",
          "data": {
            "text/plain": [
              "0"
            ],
            "image/png": "[encoded data removed]",
            "text/latex": "$\\displaystyle 0$"
          },
          "metadata": {},
          "execution_count": 34
        }
      ],
      "source": [
        "print('f')\n",
        "#f=simplify(f)\n",
        "f"
      ]
    },
    {
      "cell_type": "code",
      "execution_count": null,
      "metadata": {
        "colab": {
          "base_uri": "https://localhost:8080/"
        },
        "id": "OrVtN9n3Dp4D",
        "outputId": "5d147b35-73c7-4145-868c-5f53d57420de"
      },
      "outputs": [
        {
          "output_type": "stream",
          "name": "stdout",
          "text": [
            "g\n"
          ]
        },
        {
          "output_type": "execute_result",
          "data": {
            "text/plain": [
              "                                                    2                                     2                                          2           \n",
              "⎛          2    d                  2    d       ⎞  d                      2    d         d                           2    d         d            \n",
              "⎜- g(v)⋅sin (u)⋅──(g(v)) - g(v)⋅cos (u)⋅──(g(v))⎟⋅───(f(v))       g(v)⋅sin (u)⋅──(f(v))⋅───(g(v))            g(v)⋅cos (u)⋅──(f(v))⋅───(g(v))     \n",
              "⎝               dv                      dv      ⎠   2                          dv         2                               dv         2           \n",
              "                                                  dv                                    dv                                         dv            \n",
              "─────────────────────────────────────────────────────────── + ──────────────────────────────────────── + ────────────────────────────────────────\n",
              "               ___________________________________                 ___________________________________        ___________________________________\n",
              "              ╱ ⎛          2             2⎞                       ╱ ⎛          2             2⎞              ╱ ⎛          2             2⎞       \n",
              "             ╱  ⎜⎛d       ⎞    ⎛d       ⎞ ⎟  2                   ╱  ⎜⎛d       ⎞    ⎛d       ⎞ ⎟  2          ╱  ⎜⎛d       ⎞    ⎛d       ⎞ ⎟  2    \n",
              "            ╱   ⎜⎜──(f(v))⎟  + ⎜──(g(v))⎟ ⎟⋅g (v)               ╱   ⎜⎜──(f(v))⎟  + ⎜──(g(v))⎟ ⎟⋅g (v)      ╱   ⎜⎜──(f(v))⎟  + ⎜──(g(v))⎟ ⎟⋅g (v) \n",
              "          ╲╱    ⎝⎝dv      ⎠    ⎝dv      ⎠ ⎠                   ╲╱    ⎝⎝dv      ⎠    ⎝dv      ⎠ ⎠          ╲╱    ⎝⎝dv      ⎠    ⎝dv      ⎠ ⎠       "
            ],
            "image/png": "[encoded data removed]",
            "text/latex": "$\\displaystyle \\frac{\\left(- g{\\left(v \\right)} \\sin^{2}{\\left(u \\right)} \\frac{d}{d v} g{\\left(v \\right)} - g{\\left(v \\right)} \\cos^{2}{\\left(u \\right)} \\frac{d}{d v} g{\\left(v \\right)}\\right) \\frac{d^{2}}{d v^{2}} f{\\left(v \\right)}}{\\sqrt{\\left(\\left(\\frac{d}{d v} f{\\left(v \\right)}\\right)^{2} + \\left(\\frac{d}{d v} g{\\left(v \\right)}\\right)^{2}\\right) g^{2}{\\left(v \\right)}}} + \\frac{g{\\left(v \\right)} \\sin^{2}{\\left(u \\right)} \\frac{d}{d v} f{\\left(v \\right)} \\frac{d^{2}}{d v^{2}} g{\\left(v \\right)}}{\\sqrt{\\left(\\left(\\frac{d}{d v} f{\\left(v \\right)}\\right)^{2} + \\left(\\frac{d}{d v} g{\\left(v \\right)}\\right)^{2}\\right) g^{2}{\\left(v \\right)}}} + \\frac{g{\\left(v \\right)} \\cos^{2}{\\left(u \\right)} \\frac{d}{d v} f{\\left(v \\right)} \\frac{d^{2}}{d v^{2}} g{\\left(v \\right)}}{\\sqrt{\\left(\\left(\\frac{d}{d v} f{\\left(v \\right)}\\right)^{2} + \\left(\\frac{d}{d v} g{\\left(v \\right)}\\right)^{2}\\right) g^{2}{\\left(v \\right)}}}$"
          },
          "metadata": {},
          "execution_count": 35
        }
      ],
      "source": [
        "print('g')\n",
        "#g=simplify(g)\n",
        "g"
      ]
    },
    {
      "cell_type": "markdown",
      "metadata": {
        "id": "IE04XchAIcMV"
      },
      "source": [
        "# Curvatura de Gauss"
      ]
    },
    {
      "cell_type": "code",
      "execution_count": null,
      "metadata": {
        "colab": {
          "base_uri": "https://localhost:8080/"
        },
        "id": "2RBcQH2sIYOu",
        "outputId": "5e48fba0-434b-46b0-d695-440a0d940752"
      },
      "outputs": [
        {
          "output_type": "stream",
          "name": "stdout",
          "text": [
            "K\n"
          ]
        }
      ],
      "source": [
        "K=(e*g-f**2)/(E*G-F**2)\n",
        "print('K')\n",
        "#simplify(K)"
      ]
    },
    {
      "cell_type": "markdown",
      "metadata": {
        "id": "jgjKsS5vIpBM"
      },
      "source": [
        "# Curvatura Normal"
      ]
    },
    {
      "cell_type": "code",
      "execution_count": null,
      "metadata": {
        "colab": {
          "base_uri": "https://localhost:8080/",
          "height": 112
        },
        "id": "d5r9qCghIsi1",
        "outputId": "57f78bd4-7e22-4586-89f3-5c6426fa79e2"
      },
      "outputs": [
        {
          "output_type": "stream",
          "name": "stdout",
          "text": [
            "H\n"
          ]
        },
        {
          "output_type": "execute_result",
          "data": {
            "text/plain": [
              "    ⎛⎛           2           2               ⎞        ⎛          2             2⎞         ⎞\n",
              "    ⎜⎜d         d           d        d       ⎟        ⎜⎛d       ⎞    ⎛d       ⎞ ⎟ d       ⎟\n",
              "0.5⋅⎜⎜──(f(v))⋅───(g(v)) - ───(f(v))⋅──(g(v))⎟⋅g(v) - ⎜⎜──(f(v))⎟  + ⎜──(g(v))⎟ ⎟⋅──(f(v))⎟\n",
              "    ⎜⎜dv         2           2       dv      ⎟        ⎝⎝dv      ⎠    ⎝dv      ⎠ ⎠ dv      ⎟\n",
              "    ⎝⎝         dv          dv                ⎠                                            ⎠\n",
              "───────────────────────────────────────────────────────────────────────────────────────────\n",
              "                 ___________________________________                                       \n",
              "                ╱ ⎛          2             2⎞        ⎛          2             2⎞           \n",
              "               ╱  ⎜⎛d       ⎞    ⎛d       ⎞ ⎟  2     ⎜⎛d       ⎞    ⎛d       ⎞ ⎟           \n",
              "              ╱   ⎜⎜──(f(v))⎟  + ⎜──(g(v))⎟ ⎟⋅g (v) ⋅⎜⎜──(f(v))⎟  + ⎜──(g(v))⎟ ⎟           \n",
              "            ╲╱    ⎝⎝dv      ⎠    ⎝dv      ⎠ ⎠        ⎝⎝dv      ⎠    ⎝dv      ⎠ ⎠           "
            ],
            "image/png": "[encoded data removed]",
            "text/latex": "$\\displaystyle \\frac{0.5 \\left(\\left(\\frac{d}{d v} f{\\left(v \\right)} \\frac{d^{2}}{d v^{2}} g{\\left(v \\right)} - \\frac{d^{2}}{d v^{2}} f{\\left(v \\right)} \\frac{d}{d v} g{\\left(v \\right)}\\right) g{\\left(v \\right)} - \\left(\\left(\\frac{d}{d v} f{\\left(v \\right)}\\right)^{2} + \\left(\\frac{d}{d v} g{\\left(v \\right)}\\right)^{2}\\right) \\frac{d}{d v} f{\\left(v \\right)}\\right)}{\\sqrt{\\left(\\left(\\frac{d}{d v} f{\\left(v \\right)}\\right)^{2} + \\left(\\frac{d}{d v} g{\\left(v \\right)}\\right)^{2}\\right) g^{2}{\\left(v \\right)}} \\left(\\left(\\frac{d}{d v} f{\\left(v \\right)}\\right)^{2} + \\left(\\frac{d}{d v} g{\\left(v \\right)}\\right)^{2}\\right)}$"
          },
          "metadata": {},
          "execution_count": 37
        }
      ],
      "source": [
        "H= 1/2*(e*G-2*f*F+g*E)/(E*G-F**2)\n",
        "print('H')\n",
        "simplify(H)"
      ]
    },
    {
      "cell_type": "markdown",
      "metadata": {
        "id": "rNG5_i3LIzDP"
      },
      "source": [
        "# Simbolos de chistifell"
      ]
    },
    {
      "cell_type": "code",
      "execution_count": null,
      "metadata": {
        "id": "TP3SlmnII2Pc"
      },
      "outputs": [],
      "source": [
        "E_u= diff(E,u,1)\n",
        "F_u= diff(F,u,1)\n",
        "G_u= diff(G,u,1)\n",
        "#-----------------------------------------------------------------------\n",
        "E_v= diff(E,v,1)\n",
        "F_v= diff(F,v,1)\n",
        "G_v= diff(G,v,1)\n",
        "#-----------------------------------------------------------------------\n",
        "C_111=(0.5*E_u*G-(F_u*-0.5*E_v)*F)/(E*G-F**2)\n",
        "C_112=((F_u-0.5*E_v)*E-0.5*E_u*F)/(E*G-F**2)\n",
        "C_121=(0.5*E_v*G-0.5*G_u*F)/(E*G-F**2)\n",
        "C_122=(0.5*G_u*E-0.5*E_v*F)/(E*G-F**2)\n",
        "C_221=((F_v-0.5*G_u)*G-0.5*G_v*F)/(E*G-F**2)\n",
        "C_222=(0.5*G_v*E-(F_v-0.5*G_u)*F)/(E*G-F**2)\n"
      ]
    },
    {
      "cell_type": "markdown",
      "metadata": {
        "id": "jliWk1vxMj4c"
      },
      "source": [
        " $Γ_{11}^2$"
      ]
    },
    {
      "cell_type": "code",
      "execution_count": null,
      "metadata": {
        "colab": {
          "base_uri": "https://localhost:8080/",
          "height": 85
        },
        "id": "cZqeigCEKLeQ",
        "outputId": "4384f219-5bde-4f5d-e836-3448a9dc12b5"
      },
      "outputs": [
        {
          "output_type": "execute_result",
          "data": {
            "text/plain": [
              "    ⎛       2            2                  2   ⎞ ⎛                                2       ⎞                                                                                           ⎛       2                                                        ⎞\n",
              "1.0⋅⎝4.0⋅sin (0.5⋅u)⋅cosh (0.5⋅v) + 1.0⋅sinh (v)⎠⋅⎝sin(u)⋅cosh(v) - sin(1.0⋅u)⋅sinh (0.5⋅v)⎠ + 0.5⋅(sin(1.0⋅u)⋅sinh(1.0⋅v) - sin(u)⋅sinh(v))⋅(cos(1.0⋅u)⋅sinh(1.0⋅v) - cos(u)⋅sinh(v))⋅⎝2.0⋅cos (0.5⋅u)⋅sinh(1.0⋅v) - 2.0⋅cos(u)⋅sinh(v) + 1.0⋅sinh(2⋅v)⎠\n",
              "─────────────────────────────────────────────────────────────────────────────────────────────────────────────────────────────────────────────────────────────────────────────────────────────────────────────────────────────────────────────────────────\n",
              "                                           ⎛       2            2                  2   ⎞ ⎛       2            2                                       2         ⎞                                            2                                           \n",
              "                                           ⎝4.0⋅sin (0.5⋅u)⋅cosh (0.5⋅v) + 1.0⋅sinh (v)⎠⋅⎝4.0⋅cos (0.5⋅u)⋅sinh (0.5⋅v) - 2.0⋅cos(u)⋅cosh(v) + 1.0⋅cosh (v) + 1.0⎠ - (sin(1.0⋅u)⋅sinh(1.0⋅v) - sin(u)⋅sinh(v))                                            "
            ],
            "image/png": "[encoded data removed]",
            "text/latex": "$\\displaystyle \\frac{1.0 \\left(4.0 \\sin^{2}{\\left(0.5 u \\right)} \\cosh^{2}{\\left(0.5 v \\right)} + 1.0 \\sinh^{2}{\\left(v \\right)}\\right) \\left(\\sin{\\left(u \\right)} \\cosh{\\left(v \\right)} - \\sin{\\left(1.0 u \\right)} \\sinh^{2}{\\left(0.5 v \\right)}\\right) + 0.5 \\left(\\sin{\\left(1.0 u \\right)} \\sinh{\\left(1.0 v \\right)} - \\sin{\\left(u \\right)} \\sinh{\\left(v \\right)}\\right) \\left(\\cos{\\left(1.0 u \\right)} \\sinh{\\left(1.0 v \\right)} - \\cos{\\left(u \\right)} \\sinh{\\left(v \\right)}\\right) \\left(2.0 \\cos^{2}{\\left(0.5 u \\right)} \\sinh{\\left(1.0 v \\right)} - 2.0 \\cos{\\left(u \\right)} \\sinh{\\left(v \\right)} + 1.0 \\sinh{\\left(2 v \\right)}\\right)}{\\left(4.0 \\sin^{2}{\\left(0.5 u \\right)} \\cosh^{2}{\\left(0.5 v \\right)} + 1.0 \\sinh^{2}{\\left(v \\right)}\\right) \\left(4.0 \\cos^{2}{\\left(0.5 u \\right)} \\sinh^{2}{\\left(0.5 v \\right)} - 2.0 \\cos{\\left(u \\right)} \\cosh{\\left(v \\right)} + 1.0 \\cosh^{2}{\\left(v \\right)} + 1.0\\right) - 1.0 \\left(\\sin{\\left(1.0 u \\right)} \\sinh{\\left(1.0 v \\right)} - \\sin{\\left(u \\right)} \\sinh{\\left(v \\right)}\\right)^{2}}$"
          },
          "metadata": {},
          "execution_count": 16
        }
      ],
      "source": [
        "simplify(C_111)"
      ]
    },
    {
      "cell_type": "markdown",
      "metadata": {
        "id": "PKSXykCCMnYD"
      },
      "source": [
        " $Γ_{11}^2$"
      ]
    },
    {
      "cell_type": "code",
      "execution_count": null,
      "metadata": {
        "colab": {
          "base_uri": "https://localhost:8080/",
          "height": 85
        },
        "id": "RsAcpoV5KUH7",
        "outputId": "df5117bd-8a74-4d1f-a7ad-4f142d51e9f0"
      },
      "outputs": [
        {
          "output_type": "execute_result",
          "data": {
            "text/plain": [
              " ⎛                                              ⎛                                2       ⎞   ⎛       2                                                            ⎞ ⎛       2            2                                       2         ⎞⎞ \n",
              "-⎝1.0⋅(sin(1.0⋅u)⋅sinh(1.0⋅v) - sin(u)⋅sinh(v))⋅⎝sin(u)⋅cosh(v) - sin(1.0⋅u)⋅sinh (0.5⋅v)⎠ + ⎝1.0⋅cos (0.5⋅u)⋅sinh(1.0⋅v) - cos(1.0⋅u)⋅sinh(1.0⋅v) + 0.5⋅sinh(2⋅v)⎠⋅⎝4.0⋅cos (0.5⋅u)⋅sinh (0.5⋅v) - 2.0⋅cos(u)⋅cosh(v) + 1.0⋅cosh (v) + 1.0⎠⎠ \n",
              "──────────────────────────────────────────────────────────────────────────────────────────────────────────────────────────────────────────────────────────────────────────────────────────────────────────────────────────────────────────────\n",
              "                                     ⎛       2            2                  2   ⎞ ⎛       2            2                                       2         ⎞                                            2                                      \n",
              "                                     ⎝4.0⋅sin (0.5⋅u)⋅cosh (0.5⋅v) + 1.0⋅sinh (v)⎠⋅⎝4.0⋅cos (0.5⋅u)⋅sinh (0.5⋅v) - 2.0⋅cos(u)⋅cosh(v) + 1.0⋅cosh (v) + 1.0⎠ - (sin(1.0⋅u)⋅sinh(1.0⋅v) - sin(u)⋅sinh(v))                                       "
            ],
            "image/png": "[encoded data removed]",
            "text/latex": "$\\displaystyle - \\frac{1.0 \\left(\\sin{\\left(1.0 u \\right)} \\sinh{\\left(1.0 v \\right)} - \\sin{\\left(u \\right)} \\sinh{\\left(v \\right)}\\right) \\left(\\sin{\\left(u \\right)} \\cosh{\\left(v \\right)} - \\sin{\\left(1.0 u \\right)} \\sinh^{2}{\\left(0.5 v \\right)}\\right) + \\left(1.0 \\cos^{2}{\\left(0.5 u \\right)} \\sinh{\\left(1.0 v \\right)} - 1.0 \\cos{\\left(1.0 u \\right)} \\sinh{\\left(1.0 v \\right)} + 0.5 \\sinh{\\left(2 v \\right)}\\right) \\left(4.0 \\cos^{2}{\\left(0.5 u \\right)} \\sinh^{2}{\\left(0.5 v \\right)} - 2.0 \\cos{\\left(u \\right)} \\cosh{\\left(v \\right)} + 1.0 \\cosh^{2}{\\left(v \\right)} + 1.0\\right)}{\\left(4.0 \\sin^{2}{\\left(0.5 u \\right)} \\cosh^{2}{\\left(0.5 v \\right)} + 1.0 \\sinh^{2}{\\left(v \\right)}\\right) \\left(4.0 \\cos^{2}{\\left(0.5 u \\right)} \\sinh^{2}{\\left(0.5 v \\right)} - 2.0 \\cos{\\left(u \\right)} \\cosh{\\left(v \\right)} + 1.0 \\cosh^{2}{\\left(v \\right)} + 1.0\\right) - 1.0 \\left(\\sin{\\left(1.0 u \\right)} \\sinh{\\left(1.0 v \\right)} - \\sin{\\left(u \\right)} \\sinh{\\left(v \\right)}\\right)^{2}}$"
          },
          "metadata": {},
          "execution_count": 17
        }
      ],
      "source": [
        "simplify(C_112)"
      ]
    },
    {
      "cell_type": "markdown",
      "metadata": {
        "id": "0kHQTyPnMvND"
      },
      "source": [
        "$Γ_{12}^1$"
      ]
    },
    {
      "cell_type": "code",
      "execution_count": null,
      "metadata": {
        "colab": {
          "base_uri": "https://localhost:8080/",
          "height": 65
        },
        "id": "rdDfpYt3KYtp",
        "outputId": "c510c9cf-e201-44a2-e24f-c4faf8a8a3ee"
      },
      "outputs": [
        {
          "output_type": "execute_result",
          "data": {
            "text/plain": [
              "⎛       2            2                  2   ⎞ ⎛       2                                                    ⎞                                                                           2       \n",
              "⎝4.0⋅sin (0.5⋅u)⋅cosh (0.5⋅v) + 1.0⋅sinh (v)⎠⋅⎝1.0⋅cos (0.5⋅u)⋅sinh(1.0⋅v) - cos(u)⋅sinh(v) + 0.5⋅sinh(2⋅v)⎠ - 2.0⋅(sin(1.0⋅u)⋅sinh(1.0⋅v) - sin(u)⋅sinh(v))⋅sin(0.5⋅u)⋅cos(0.5⋅u)⋅cosh (0.5⋅v)\n",
              "───────────────────────────────────────────────────────────────────────────────────────────────────────────────────────────────────────────────────────────────────────────────────────────────\n",
              "              ⎛       2            2                  2   ⎞ ⎛       2            2                                       2         ⎞                                            2              \n",
              "              ⎝4.0⋅sin (0.5⋅u)⋅cosh (0.5⋅v) + 1.0⋅sinh (v)⎠⋅⎝4.0⋅cos (0.5⋅u)⋅sinh (0.5⋅v) - 2.0⋅cos(u)⋅cosh(v) + 1.0⋅cosh (v) + 1.0⎠ - (sin(1.0⋅u)⋅sinh(1.0⋅v) - sin(u)⋅sinh(v))               "
            ],
            "image/png": "[encoded data removed]",
            "text/latex": "$\\displaystyle \\frac{\\left(4.0 \\sin^{2}{\\left(0.5 u \\right)} \\cosh^{2}{\\left(0.5 v \\right)} + 1.0 \\sinh^{2}{\\left(v \\right)}\\right) \\left(1.0 \\cos^{2}{\\left(0.5 u \\right)} \\sinh{\\left(1.0 v \\right)} - 1.0 \\cos{\\left(u \\right)} \\sinh{\\left(v \\right)} + 0.5 \\sinh{\\left(2 v \\right)}\\right) - 2.0 \\left(\\sin{\\left(1.0 u \\right)} \\sinh{\\left(1.0 v \\right)} - \\sin{\\left(u \\right)} \\sinh{\\left(v \\right)}\\right) \\sin{\\left(0.5 u \\right)} \\cos{\\left(0.5 u \\right)} \\cosh^{2}{\\left(0.5 v \\right)}}{\\left(4.0 \\sin^{2}{\\left(0.5 u \\right)} \\cosh^{2}{\\left(0.5 v \\right)} + 1.0 \\sinh^{2}{\\left(v \\right)}\\right) \\left(4.0 \\cos^{2}{\\left(0.5 u \\right)} \\sinh^{2}{\\left(0.5 v \\right)} - 2.0 \\cos{\\left(u \\right)} \\cosh{\\left(v \\right)} + 1.0 \\cosh^{2}{\\left(v \\right)} + 1.0\\right) - 1.0 \\left(\\sin{\\left(1.0 u \\right)} \\sinh{\\left(1.0 v \\right)} - \\sin{\\left(u \\right)} \\sinh{\\left(v \\right)}\\right)^{2}}$"
          },
          "metadata": {},
          "execution_count": 18
        }
      ],
      "source": [
        "simplify(C_121)"
      ]
    },
    {
      "cell_type": "markdown",
      "metadata": {
        "id": "sUVjBfwHM_ZN"
      },
      "source": [
        "$Γ_{12}^2$"
      ]
    },
    {
      "cell_type": "code",
      "execution_count": null,
      "metadata": {
        "colab": {
          "base_uri": "https://localhost:8080/",
          "height": 323
        },
        "id": "R_E9404GKiGn",
        "outputId": "106049c2-076a-44ee-a89b-bfbe14882053"
      },
      "outputs": [
        {
          "output_type": "error",
          "ename": "KeyError",
          "evalue": "ignored",
          "traceback": [
            "\u001b[0;31m---------------------------------------------------------------------------\u001b[0m",
            "\u001b[0;31mKeyError\u001b[0m                                  Traceback (most recent call last)",
            "\u001b[0;32m<ipython-input-19-cb929a6bf848>\u001b[0m in \u001b[0;36m<module>\u001b[0;34m()\u001b[0m\n\u001b[0;32m----> 1\u001b[0;31m \u001b[0msimplify\u001b[0m\u001b[0;34m(\u001b[0m\u001b[0mC_122\u001b[0m\u001b[0;34m)\u001b[0m\u001b[0;34m\u001b[0m\u001b[0;34m\u001b[0m\u001b[0m\n\u001b[0m",
            "\u001b[0;32m/usr/local/lib/python3.7/dist-packages/sympy/simplify/simplify.py\u001b[0m in \u001b[0;36msimplify\u001b[0;34m(expr, ratio, measure, rational, inverse, doit, **kwargs)\u001b[0m\n\u001b[1;32m    663\u001b[0m \u001b[0;34m\u001b[0m\u001b[0m\n\u001b[1;32m    664\u001b[0m     \u001b[0;32mif\u001b[0m \u001b[0mexpr\u001b[0m\u001b[0;34m.\u001b[0m\u001b[0mhas\u001b[0m\u001b[0;34m(\u001b[0m\u001b[0mTrigonometricFunction\u001b[0m\u001b[0;34m,\u001b[0m \u001b[0mHyperbolicFunction\u001b[0m\u001b[0;34m)\u001b[0m\u001b[0;34m:\u001b[0m\u001b[0;34m\u001b[0m\u001b[0;34m\u001b[0m\u001b[0m\n\u001b[0;32m--> 665\u001b[0;31m         \u001b[0mexpr\u001b[0m \u001b[0;34m=\u001b[0m \u001b[0mtrigsimp\u001b[0m\u001b[0;34m(\u001b[0m\u001b[0mexpr\u001b[0m\u001b[0;34m,\u001b[0m \u001b[0mdeep\u001b[0m\u001b[0;34m=\u001b[0m\u001b[0;32mTrue\u001b[0m\u001b[0;34m)\u001b[0m\u001b[0;34m\u001b[0m\u001b[0;34m\u001b[0m\u001b[0m\n\u001b[0m\u001b[1;32m    666\u001b[0m \u001b[0;34m\u001b[0m\u001b[0m\n\u001b[1;32m    667\u001b[0m     \u001b[0;32mif\u001b[0m \u001b[0mexpr\u001b[0m\u001b[0;34m.\u001b[0m\u001b[0mhas\u001b[0m\u001b[0;34m(\u001b[0m\u001b[0mlog\u001b[0m\u001b[0;34m)\u001b[0m\u001b[0;34m:\u001b[0m\u001b[0;34m\u001b[0m\u001b[0;34m\u001b[0m\u001b[0m\n",
            "\u001b[0;32m/usr/local/lib/python3.7/dist-packages/sympy/simplify/trigsimp.py\u001b[0m in \u001b[0;36mtrigsimp\u001b[0;34m(expr, **opts)\u001b[0m\n\u001b[1;32m    506\u001b[0m                    }[method]\n\u001b[1;32m    507\u001b[0m \u001b[0;34m\u001b[0m\u001b[0m\n\u001b[0;32m--> 508\u001b[0;31m     \u001b[0;32mreturn\u001b[0m \u001b[0mtrigsimpfunc\u001b[0m\u001b[0;34m(\u001b[0m\u001b[0mexpr\u001b[0m\u001b[0;34m)\u001b[0m\u001b[0;34m\u001b[0m\u001b[0;34m\u001b[0m\u001b[0m\n\u001b[0m\u001b[1;32m    509\u001b[0m \u001b[0;34m\u001b[0m\u001b[0m\n\u001b[1;32m    510\u001b[0m \u001b[0;34m\u001b[0m\u001b[0m\n",
            "\u001b[0;32m/usr/local/lib/python3.7/dist-packages/sympy/simplify/trigsimp.py\u001b[0m in \u001b[0;36m<lambda>\u001b[0;34m(x)\u001b[0m\n\u001b[1;32m    499\u001b[0m     trigsimpfunc = {\n\u001b[1;32m    500\u001b[0m         \u001b[0;34m'fu'\u001b[0m\u001b[0;34m:\u001b[0m \u001b[0;34m(\u001b[0m\u001b[0;32mlambda\u001b[0m \u001b[0mx\u001b[0m\u001b[0;34m:\u001b[0m \u001b[0mfu\u001b[0m\u001b[0;34m(\u001b[0m\u001b[0mx\u001b[0m\u001b[0;34m,\u001b[0m \u001b[0;34m**\u001b[0m\u001b[0mopts\u001b[0m\u001b[0;34m)\u001b[0m\u001b[0;34m)\u001b[0m\u001b[0;34m,\u001b[0m\u001b[0;34m\u001b[0m\u001b[0;34m\u001b[0m\u001b[0m\n\u001b[0;32m--> 501\u001b[0;31m         \u001b[0;34m'matching'\u001b[0m\u001b[0;34m:\u001b[0m \u001b[0;34m(\u001b[0m\u001b[0;32mlambda\u001b[0m \u001b[0mx\u001b[0m\u001b[0;34m:\u001b[0m \u001b[0mfutrig\u001b[0m\u001b[0;34m(\u001b[0m\u001b[0mx\u001b[0m\u001b[0;34m)\u001b[0m\u001b[0;34m)\u001b[0m\u001b[0;34m,\u001b[0m\u001b[0;34m\u001b[0m\u001b[0;34m\u001b[0m\u001b[0m\n\u001b[0m\u001b[1;32m    502\u001b[0m         \u001b[0;34m'groebner'\u001b[0m\u001b[0;34m:\u001b[0m \u001b[0;34m(\u001b[0m\u001b[0;32mlambda\u001b[0m \u001b[0mx\u001b[0m\u001b[0;34m:\u001b[0m \u001b[0mgroebnersimp\u001b[0m\u001b[0;34m(\u001b[0m\u001b[0mx\u001b[0m\u001b[0;34m,\u001b[0m \u001b[0;34m**\u001b[0m\u001b[0mopts\u001b[0m\u001b[0;34m)\u001b[0m\u001b[0;34m)\u001b[0m\u001b[0;34m,\u001b[0m\u001b[0;34m\u001b[0m\u001b[0;34m\u001b[0m\u001b[0m\n\u001b[1;32m    503\u001b[0m         'combined': (lambda x: futrig(groebnersimp(x,\n",
            "\u001b[0;32m/usr/local/lib/python3.7/dist-packages/sympy/simplify/trigsimp.py\u001b[0m in \u001b[0;36mfutrig\u001b[0;34m(e, hyper, **kwargs)\u001b[0m\n\u001b[1;32m   1098\u001b[0m \u001b[0;34m\u001b[0m\u001b[0m\n\u001b[1;32m   1099\u001b[0m     \u001b[0mold\u001b[0m \u001b[0;34m=\u001b[0m \u001b[0me\u001b[0m\u001b[0;34m\u001b[0m\u001b[0;34m\u001b[0m\u001b[0m\n\u001b[0;32m-> 1100\u001b[0;31m     \u001b[0me\u001b[0m \u001b[0;34m=\u001b[0m \u001b[0mbottom_up\u001b[0m\u001b[0;34m(\u001b[0m\u001b[0me\u001b[0m\u001b[0;34m,\u001b[0m \u001b[0m_futrig\u001b[0m\u001b[0;34m)\u001b[0m\u001b[0;34m\u001b[0m\u001b[0;34m\u001b[0m\u001b[0m\n\u001b[0m\u001b[1;32m   1101\u001b[0m \u001b[0;34m\u001b[0m\u001b[0m\n\u001b[1;32m   1102\u001b[0m     \u001b[0;32mif\u001b[0m \u001b[0mhyper\u001b[0m \u001b[0;32mand\u001b[0m \u001b[0me\u001b[0m\u001b[0;34m.\u001b[0m\u001b[0mhas\u001b[0m\u001b[0;34m(\u001b[0m\u001b[0mHyperbolicFunction\u001b[0m\u001b[0;34m)\u001b[0m\u001b[0;34m:\u001b[0m\u001b[0;34m\u001b[0m\u001b[0;34m\u001b[0m\u001b[0m\n",
            "\u001b[0;32m/usr/local/lib/python3.7/dist-packages/sympy/simplify/simplify.py\u001b[0m in \u001b[0;36mbottom_up\u001b[0;34m(rv, F, atoms, nonbasic)\u001b[0m\n\u001b[1;32m   1154\u001b[0m     \u001b[0;32mif\u001b[0m \u001b[0margs\u001b[0m \u001b[0;32mis\u001b[0m \u001b[0;32mnot\u001b[0m \u001b[0;32mNone\u001b[0m\u001b[0;34m:\u001b[0m\u001b[0;34m\u001b[0m\u001b[0;34m\u001b[0m\u001b[0m\n\u001b[1;32m   1155\u001b[0m         \u001b[0;32mif\u001b[0m \u001b[0margs\u001b[0m\u001b[0;34m:\u001b[0m\u001b[0;34m\u001b[0m\u001b[0;34m\u001b[0m\u001b[0m\n\u001b[0;32m-> 1156\u001b[0;31m             \u001b[0margs\u001b[0m \u001b[0;34m=\u001b[0m \u001b[0mtuple\u001b[0m\u001b[0;34m(\u001b[0m\u001b[0;34m[\u001b[0m\u001b[0mbottom_up\u001b[0m\u001b[0;34m(\u001b[0m\u001b[0ma\u001b[0m\u001b[0;34m,\u001b[0m \u001b[0mF\u001b[0m\u001b[0;34m,\u001b[0m \u001b[0matoms\u001b[0m\u001b[0;34m,\u001b[0m \u001b[0mnonbasic\u001b[0m\u001b[0;34m)\u001b[0m \u001b[0;32mfor\u001b[0m \u001b[0ma\u001b[0m \u001b[0;32min\u001b[0m \u001b[0margs\u001b[0m\u001b[0;34m]\u001b[0m\u001b[0;34m)\u001b[0m\u001b[0;34m\u001b[0m\u001b[0;34m\u001b[0m\u001b[0m\n\u001b[0m\u001b[1;32m   1157\u001b[0m             \u001b[0;32mif\u001b[0m \u001b[0margs\u001b[0m \u001b[0;34m!=\u001b[0m \u001b[0mrv\u001b[0m\u001b[0;34m.\u001b[0m\u001b[0margs\u001b[0m\u001b[0;34m:\u001b[0m\u001b[0;34m\u001b[0m\u001b[0;34m\u001b[0m\u001b[0m\n\u001b[1;32m   1158\u001b[0m                 \u001b[0mrv\u001b[0m \u001b[0;34m=\u001b[0m \u001b[0mrv\u001b[0m\u001b[0;34m.\u001b[0m\u001b[0mfunc\u001b[0m\u001b[0;34m(\u001b[0m\u001b[0;34m*\u001b[0m\u001b[0margs\u001b[0m\u001b[0;34m)\u001b[0m\u001b[0;34m\u001b[0m\u001b[0;34m\u001b[0m\u001b[0m\n",
            "\u001b[0;32m/usr/local/lib/python3.7/dist-packages/sympy/simplify/simplify.py\u001b[0m in \u001b[0;36m<listcomp>\u001b[0;34m(.0)\u001b[0m\n\u001b[1;32m   1154\u001b[0m     \u001b[0;32mif\u001b[0m \u001b[0margs\u001b[0m \u001b[0;32mis\u001b[0m \u001b[0;32mnot\u001b[0m \u001b[0;32mNone\u001b[0m\u001b[0;34m:\u001b[0m\u001b[0;34m\u001b[0m\u001b[0;34m\u001b[0m\u001b[0m\n\u001b[1;32m   1155\u001b[0m         \u001b[0;32mif\u001b[0m \u001b[0margs\u001b[0m\u001b[0;34m:\u001b[0m\u001b[0;34m\u001b[0m\u001b[0;34m\u001b[0m\u001b[0m\n\u001b[0;32m-> 1156\u001b[0;31m             \u001b[0margs\u001b[0m \u001b[0;34m=\u001b[0m \u001b[0mtuple\u001b[0m\u001b[0;34m(\u001b[0m\u001b[0;34m[\u001b[0m\u001b[0mbottom_up\u001b[0m\u001b[0;34m(\u001b[0m\u001b[0ma\u001b[0m\u001b[0;34m,\u001b[0m \u001b[0mF\u001b[0m\u001b[0;34m,\u001b[0m \u001b[0matoms\u001b[0m\u001b[0;34m,\u001b[0m \u001b[0mnonbasic\u001b[0m\u001b[0;34m)\u001b[0m \u001b[0;32mfor\u001b[0m \u001b[0ma\u001b[0m \u001b[0;32min\u001b[0m \u001b[0margs\u001b[0m\u001b[0;34m]\u001b[0m\u001b[0;34m)\u001b[0m\u001b[0;34m\u001b[0m\u001b[0;34m\u001b[0m\u001b[0m\n\u001b[0m\u001b[1;32m   1157\u001b[0m             \u001b[0;32mif\u001b[0m \u001b[0margs\u001b[0m \u001b[0;34m!=\u001b[0m \u001b[0mrv\u001b[0m\u001b[0;34m.\u001b[0m\u001b[0margs\u001b[0m\u001b[0;34m:\u001b[0m\u001b[0;34m\u001b[0m\u001b[0;34m\u001b[0m\u001b[0m\n\u001b[1;32m   1158\u001b[0m                 \u001b[0mrv\u001b[0m \u001b[0;34m=\u001b[0m \u001b[0mrv\u001b[0m\u001b[0;34m.\u001b[0m\u001b[0mfunc\u001b[0m\u001b[0;34m(\u001b[0m\u001b[0;34m*\u001b[0m\u001b[0margs\u001b[0m\u001b[0;34m)\u001b[0m\u001b[0;34m\u001b[0m\u001b[0;34m\u001b[0m\u001b[0m\n",
            "\u001b[0;32m/usr/local/lib/python3.7/dist-packages/sympy/simplify/simplify.py\u001b[0m in \u001b[0;36mbottom_up\u001b[0;34m(rv, F, atoms, nonbasic)\u001b[0m\n\u001b[1;32m   1157\u001b[0m             \u001b[0;32mif\u001b[0m \u001b[0margs\u001b[0m \u001b[0;34m!=\u001b[0m \u001b[0mrv\u001b[0m\u001b[0;34m.\u001b[0m\u001b[0margs\u001b[0m\u001b[0;34m:\u001b[0m\u001b[0;34m\u001b[0m\u001b[0;34m\u001b[0m\u001b[0m\n\u001b[1;32m   1158\u001b[0m                 \u001b[0mrv\u001b[0m \u001b[0;34m=\u001b[0m \u001b[0mrv\u001b[0m\u001b[0;34m.\u001b[0m\u001b[0mfunc\u001b[0m\u001b[0;34m(\u001b[0m\u001b[0;34m*\u001b[0m\u001b[0margs\u001b[0m\u001b[0;34m)\u001b[0m\u001b[0;34m\u001b[0m\u001b[0;34m\u001b[0m\u001b[0m\n\u001b[0;32m-> 1159\u001b[0;31m             \u001b[0mrv\u001b[0m \u001b[0;34m=\u001b[0m \u001b[0mF\u001b[0m\u001b[0;34m(\u001b[0m\u001b[0mrv\u001b[0m\u001b[0;34m)\u001b[0m\u001b[0;34m\u001b[0m\u001b[0;34m\u001b[0m\u001b[0m\n\u001b[0m\u001b[1;32m   1160\u001b[0m         \u001b[0;32melif\u001b[0m \u001b[0matoms\u001b[0m\u001b[0;34m:\u001b[0m\u001b[0;34m\u001b[0m\u001b[0;34m\u001b[0m\u001b[0m\n\u001b[1;32m   1161\u001b[0m             \u001b[0mrv\u001b[0m \u001b[0;34m=\u001b[0m \u001b[0mF\u001b[0m\u001b[0;34m(\u001b[0m\u001b[0mrv\u001b[0m\u001b[0;34m)\u001b[0m\u001b[0;34m\u001b[0m\u001b[0;34m\u001b[0m\u001b[0m\n",
            "\u001b[0;32m/usr/local/lib/python3.7/dist-packages/sympy/simplify/trigsimp.py\u001b[0m in \u001b[0;36m_futrig\u001b[0;34m(e)\u001b[0m\n\u001b[1;32m   1166\u001b[0m             factor_terms, TR12(x), trigs)],  # expand tan of sum\n\u001b[1;32m   1167\u001b[0m         )]\n\u001b[0;32m-> 1168\u001b[0;31m     \u001b[0me\u001b[0m \u001b[0;34m=\u001b[0m \u001b[0mgreedy\u001b[0m\u001b[0;34m(\u001b[0m\u001b[0mtree\u001b[0m\u001b[0;34m,\u001b[0m \u001b[0mobjective\u001b[0m\u001b[0;34m=\u001b[0m\u001b[0mLops\u001b[0m\u001b[0;34m)\u001b[0m\u001b[0;34m(\u001b[0m\u001b[0me\u001b[0m\u001b[0;34m)\u001b[0m\u001b[0;34m\u001b[0m\u001b[0;34m\u001b[0m\u001b[0m\n\u001b[0m\u001b[1;32m   1169\u001b[0m \u001b[0;34m\u001b[0m\u001b[0m\n\u001b[1;32m   1170\u001b[0m     \u001b[0;32mif\u001b[0m \u001b[0mcoeff\u001b[0m \u001b[0;32mis\u001b[0m \u001b[0;32mnot\u001b[0m \u001b[0;32mNone\u001b[0m\u001b[0;34m:\u001b[0m\u001b[0;34m\u001b[0m\u001b[0;34m\u001b[0m\u001b[0m\n",
            "\u001b[0;32m/usr/local/lib/python3.7/dist-packages/sympy/strategies/core.py\u001b[0m in \u001b[0;36mminrule\u001b[0;34m(expr)\u001b[0m\n\u001b[1;32m    112\u001b[0m \u001b[0;34m\u001b[0m\u001b[0m\n\u001b[1;32m    113\u001b[0m     \u001b[0;32mdef\u001b[0m \u001b[0mminrule\u001b[0m\u001b[0;34m(\u001b[0m\u001b[0mexpr\u001b[0m\u001b[0;34m)\u001b[0m\u001b[0;34m:\u001b[0m\u001b[0;34m\u001b[0m\u001b[0;34m\u001b[0m\u001b[0m\n\u001b[0;32m--> 114\u001b[0;31m         \u001b[0;32mreturn\u001b[0m \u001b[0mmin\u001b[0m\u001b[0;34m(\u001b[0m\u001b[0;34m[\u001b[0m\u001b[0mrule\u001b[0m\u001b[0;34m(\u001b[0m\u001b[0mexpr\u001b[0m\u001b[0;34m)\u001b[0m \u001b[0;32mfor\u001b[0m \u001b[0mrule\u001b[0m \u001b[0;32min\u001b[0m \u001b[0mrules\u001b[0m\u001b[0;34m]\u001b[0m\u001b[0;34m,\u001b[0m \u001b[0mkey\u001b[0m\u001b[0;34m=\u001b[0m\u001b[0mobjective\u001b[0m\u001b[0;34m)\u001b[0m\u001b[0;34m\u001b[0m\u001b[0;34m\u001b[0m\u001b[0m\n\u001b[0m\u001b[1;32m    115\u001b[0m     \u001b[0;32mreturn\u001b[0m \u001b[0mminrule\u001b[0m\u001b[0;34m\u001b[0m\u001b[0;34m\u001b[0m\u001b[0m\n",
            "\u001b[0;32m/usr/local/lib/python3.7/dist-packages/sympy/strategies/core.py\u001b[0m in \u001b[0;36m<listcomp>\u001b[0;34m(.0)\u001b[0m\n\u001b[1;32m    112\u001b[0m \u001b[0;34m\u001b[0m\u001b[0m\n\u001b[1;32m    113\u001b[0m     \u001b[0;32mdef\u001b[0m \u001b[0mminrule\u001b[0m\u001b[0;34m(\u001b[0m\u001b[0mexpr\u001b[0m\u001b[0;34m)\u001b[0m\u001b[0;34m:\u001b[0m\u001b[0;34m\u001b[0m\u001b[0;34m\u001b[0m\u001b[0m\n\u001b[0;32m--> 114\u001b[0;31m         \u001b[0;32mreturn\u001b[0m \u001b[0mmin\u001b[0m\u001b[0;34m(\u001b[0m\u001b[0;34m[\u001b[0m\u001b[0mrule\u001b[0m\u001b[0;34m(\u001b[0m\u001b[0mexpr\u001b[0m\u001b[0;34m)\u001b[0m \u001b[0;32mfor\u001b[0m \u001b[0mrule\u001b[0m \u001b[0;32min\u001b[0m \u001b[0mrules\u001b[0m\u001b[0;34m]\u001b[0m\u001b[0;34m,\u001b[0m \u001b[0mkey\u001b[0m\u001b[0;34m=\u001b[0m\u001b[0mobjective\u001b[0m\u001b[0;34m)\u001b[0m\u001b[0;34m\u001b[0m\u001b[0;34m\u001b[0m\u001b[0m\n\u001b[0m\u001b[1;32m    115\u001b[0m     \u001b[0;32mreturn\u001b[0m \u001b[0mminrule\u001b[0m\u001b[0;34m\u001b[0m\u001b[0;34m\u001b[0m\u001b[0m\n",
            "\u001b[0;32m/usr/local/lib/python3.7/dist-packages/sympy/strategies/core.py\u001b[0m in \u001b[0;36mchain_rl\u001b[0;34m(expr)\u001b[0m\n\u001b[1;32m     42\u001b[0m     \u001b[0;32mdef\u001b[0m \u001b[0mchain_rl\u001b[0m\u001b[0;34m(\u001b[0m\u001b[0mexpr\u001b[0m\u001b[0;34m)\u001b[0m\u001b[0;34m:\u001b[0m\u001b[0;34m\u001b[0m\u001b[0;34m\u001b[0m\u001b[0m\n\u001b[1;32m     43\u001b[0m         \u001b[0;32mfor\u001b[0m \u001b[0mrule\u001b[0m \u001b[0;32min\u001b[0m \u001b[0mrules\u001b[0m\u001b[0;34m:\u001b[0m\u001b[0;34m\u001b[0m\u001b[0;34m\u001b[0m\u001b[0m\n\u001b[0;32m---> 44\u001b[0;31m             \u001b[0mexpr\u001b[0m \u001b[0;34m=\u001b[0m \u001b[0mrule\u001b[0m\u001b[0;34m(\u001b[0m\u001b[0mexpr\u001b[0m\u001b[0;34m)\u001b[0m\u001b[0;34m\u001b[0m\u001b[0;34m\u001b[0m\u001b[0m\n\u001b[0m\u001b[1;32m     45\u001b[0m         \u001b[0;32mreturn\u001b[0m \u001b[0mexpr\u001b[0m\u001b[0;34m\u001b[0m\u001b[0;34m\u001b[0m\u001b[0m\n\u001b[1;32m     46\u001b[0m     \u001b[0;32mreturn\u001b[0m \u001b[0mchain_rl\u001b[0m\u001b[0;34m\u001b[0m\u001b[0;34m\u001b[0m\u001b[0m\n",
            "\u001b[0;32m/usr/local/lib/python3.7/dist-packages/sympy/simplify/fu.py\u001b[0m in \u001b[0;36mTRmorrie\u001b[0;34m(rv)\u001b[0m\n\u001b[1;32m   1216\u001b[0m         \u001b[0;32mreturn\u001b[0m \u001b[0mrv\u001b[0m\u001b[0;34m\u001b[0m\u001b[0;34m\u001b[0m\u001b[0m\n\u001b[1;32m   1217\u001b[0m \u001b[0;34m\u001b[0m\u001b[0m\n\u001b[0;32m-> 1218\u001b[0;31m     \u001b[0;32mreturn\u001b[0m \u001b[0mbottom_up\u001b[0m\u001b[0;34m(\u001b[0m\u001b[0mrv\u001b[0m\u001b[0;34m,\u001b[0m \u001b[0mf\u001b[0m\u001b[0;34m)\u001b[0m\u001b[0;34m\u001b[0m\u001b[0;34m\u001b[0m\u001b[0m\n\u001b[0m\u001b[1;32m   1219\u001b[0m \u001b[0;34m\u001b[0m\u001b[0m\n\u001b[1;32m   1220\u001b[0m \u001b[0;34m\u001b[0m\u001b[0m\n",
            "\u001b[0;32m/usr/local/lib/python3.7/dist-packages/sympy/simplify/simplify.py\u001b[0m in \u001b[0;36mbottom_up\u001b[0;34m(rv, F, atoms, nonbasic)\u001b[0m\n\u001b[1;32m   1154\u001b[0m     \u001b[0;32mif\u001b[0m \u001b[0margs\u001b[0m \u001b[0;32mis\u001b[0m \u001b[0;32mnot\u001b[0m \u001b[0;32mNone\u001b[0m\u001b[0;34m:\u001b[0m\u001b[0;34m\u001b[0m\u001b[0;34m\u001b[0m\u001b[0m\n\u001b[1;32m   1155\u001b[0m         \u001b[0;32mif\u001b[0m \u001b[0margs\u001b[0m\u001b[0;34m:\u001b[0m\u001b[0;34m\u001b[0m\u001b[0;34m\u001b[0m\u001b[0m\n\u001b[0;32m-> 1156\u001b[0;31m             \u001b[0margs\u001b[0m \u001b[0;34m=\u001b[0m \u001b[0mtuple\u001b[0m\u001b[0;34m(\u001b[0m\u001b[0;34m[\u001b[0m\u001b[0mbottom_up\u001b[0m\u001b[0;34m(\u001b[0m\u001b[0ma\u001b[0m\u001b[0;34m,\u001b[0m \u001b[0mF\u001b[0m\u001b[0;34m,\u001b[0m \u001b[0matoms\u001b[0m\u001b[0;34m,\u001b[0m \u001b[0mnonbasic\u001b[0m\u001b[0;34m)\u001b[0m \u001b[0;32mfor\u001b[0m \u001b[0ma\u001b[0m \u001b[0;32min\u001b[0m \u001b[0margs\u001b[0m\u001b[0;34m]\u001b[0m\u001b[0;34m)\u001b[0m\u001b[0;34m\u001b[0m\u001b[0;34m\u001b[0m\u001b[0m\n\u001b[0m\u001b[1;32m   1157\u001b[0m             \u001b[0;32mif\u001b[0m \u001b[0margs\u001b[0m \u001b[0;34m!=\u001b[0m \u001b[0mrv\u001b[0m\u001b[0;34m.\u001b[0m\u001b[0margs\u001b[0m\u001b[0;34m:\u001b[0m\u001b[0;34m\u001b[0m\u001b[0;34m\u001b[0m\u001b[0m\n\u001b[1;32m   1158\u001b[0m                 \u001b[0mrv\u001b[0m \u001b[0;34m=\u001b[0m \u001b[0mrv\u001b[0m\u001b[0;34m.\u001b[0m\u001b[0mfunc\u001b[0m\u001b[0;34m(\u001b[0m\u001b[0;34m*\u001b[0m\u001b[0margs\u001b[0m\u001b[0;34m)\u001b[0m\u001b[0;34m\u001b[0m\u001b[0;34m\u001b[0m\u001b[0m\n",
            "\u001b[0;32m/usr/local/lib/python3.7/dist-packages/sympy/simplify/simplify.py\u001b[0m in \u001b[0;36m<listcomp>\u001b[0;34m(.0)\u001b[0m\n\u001b[1;32m   1154\u001b[0m     \u001b[0;32mif\u001b[0m \u001b[0margs\u001b[0m \u001b[0;32mis\u001b[0m \u001b[0;32mnot\u001b[0m \u001b[0;32mNone\u001b[0m\u001b[0;34m:\u001b[0m\u001b[0;34m\u001b[0m\u001b[0;34m\u001b[0m\u001b[0m\n\u001b[1;32m   1155\u001b[0m         \u001b[0;32mif\u001b[0m \u001b[0margs\u001b[0m\u001b[0;34m:\u001b[0m\u001b[0;34m\u001b[0m\u001b[0;34m\u001b[0m\u001b[0m\n\u001b[0;32m-> 1156\u001b[0;31m             \u001b[0margs\u001b[0m \u001b[0;34m=\u001b[0m \u001b[0mtuple\u001b[0m\u001b[0;34m(\u001b[0m\u001b[0;34m[\u001b[0m\u001b[0mbottom_up\u001b[0m\u001b[0;34m(\u001b[0m\u001b[0ma\u001b[0m\u001b[0;34m,\u001b[0m \u001b[0mF\u001b[0m\u001b[0;34m,\u001b[0m \u001b[0matoms\u001b[0m\u001b[0;34m,\u001b[0m \u001b[0mnonbasic\u001b[0m\u001b[0;34m)\u001b[0m \u001b[0;32mfor\u001b[0m \u001b[0ma\u001b[0m \u001b[0;32min\u001b[0m \u001b[0margs\u001b[0m\u001b[0;34m]\u001b[0m\u001b[0;34m)\u001b[0m\u001b[0;34m\u001b[0m\u001b[0;34m\u001b[0m\u001b[0m\n\u001b[0m\u001b[1;32m   1157\u001b[0m             \u001b[0;32mif\u001b[0m \u001b[0margs\u001b[0m \u001b[0;34m!=\u001b[0m \u001b[0mrv\u001b[0m\u001b[0;34m.\u001b[0m\u001b[0margs\u001b[0m\u001b[0;34m:\u001b[0m\u001b[0;34m\u001b[0m\u001b[0;34m\u001b[0m\u001b[0m\n\u001b[1;32m   1158\u001b[0m                 \u001b[0mrv\u001b[0m \u001b[0;34m=\u001b[0m \u001b[0mrv\u001b[0m\u001b[0;34m.\u001b[0m\u001b[0mfunc\u001b[0m\u001b[0;34m(\u001b[0m\u001b[0;34m*\u001b[0m\u001b[0margs\u001b[0m\u001b[0;34m)\u001b[0m\u001b[0;34m\u001b[0m\u001b[0;34m\u001b[0m\u001b[0m\n",
            "\u001b[0;32m/usr/local/lib/python3.7/dist-packages/sympy/simplify/simplify.py\u001b[0m in \u001b[0;36mbottom_up\u001b[0;34m(rv, F, atoms, nonbasic)\u001b[0m\n\u001b[1;32m   1157\u001b[0m             \u001b[0;32mif\u001b[0m \u001b[0margs\u001b[0m \u001b[0;34m!=\u001b[0m \u001b[0mrv\u001b[0m\u001b[0;34m.\u001b[0m\u001b[0margs\u001b[0m\u001b[0;34m:\u001b[0m\u001b[0;34m\u001b[0m\u001b[0;34m\u001b[0m\u001b[0m\n\u001b[1;32m   1158\u001b[0m                 \u001b[0mrv\u001b[0m \u001b[0;34m=\u001b[0m \u001b[0mrv\u001b[0m\u001b[0;34m.\u001b[0m\u001b[0mfunc\u001b[0m\u001b[0;34m(\u001b[0m\u001b[0;34m*\u001b[0m\u001b[0margs\u001b[0m\u001b[0;34m)\u001b[0m\u001b[0;34m\u001b[0m\u001b[0;34m\u001b[0m\u001b[0m\n\u001b[0;32m-> 1159\u001b[0;31m             \u001b[0mrv\u001b[0m \u001b[0;34m=\u001b[0m \u001b[0mF\u001b[0m\u001b[0;34m(\u001b[0m\u001b[0mrv\u001b[0m\u001b[0;34m)\u001b[0m\u001b[0;34m\u001b[0m\u001b[0;34m\u001b[0m\u001b[0m\n\u001b[0m\u001b[1;32m   1160\u001b[0m         \u001b[0;32melif\u001b[0m \u001b[0matoms\u001b[0m\u001b[0;34m:\u001b[0m\u001b[0;34m\u001b[0m\u001b[0;34m\u001b[0m\u001b[0m\n\u001b[1;32m   1161\u001b[0m             \u001b[0mrv\u001b[0m \u001b[0;34m=\u001b[0m \u001b[0mF\u001b[0m\u001b[0;34m(\u001b[0m\u001b[0mrv\u001b[0m\u001b[0;34m)\u001b[0m\u001b[0;34m\u001b[0m\u001b[0;34m\u001b[0m\u001b[0m\n",
            "\u001b[0;32m/usr/local/lib/python3.7/dist-packages/sympy/simplify/fu.py\u001b[0m in \u001b[0;36mf\u001b[0;34m(rv, first)\u001b[0m\n\u001b[1;32m   1163\u001b[0m         \u001b[0;32mif\u001b[0m \u001b[0mfirst\u001b[0m\u001b[0;34m:\u001b[0m\u001b[0;34m\u001b[0m\u001b[0;34m\u001b[0m\u001b[0m\n\u001b[1;32m   1164\u001b[0m             \u001b[0mn\u001b[0m\u001b[0;34m,\u001b[0m \u001b[0md\u001b[0m \u001b[0;34m=\u001b[0m \u001b[0mrv\u001b[0m\u001b[0;34m.\u001b[0m\u001b[0mas_numer_denom\u001b[0m\u001b[0;34m(\u001b[0m\u001b[0;34m)\u001b[0m\u001b[0;34m\u001b[0m\u001b[0;34m\u001b[0m\u001b[0m\n\u001b[0;32m-> 1165\u001b[0;31m             \u001b[0;32mreturn\u001b[0m \u001b[0mf\u001b[0m\u001b[0;34m(\u001b[0m\u001b[0mn\u001b[0m\u001b[0;34m,\u001b[0m \u001b[0;36m0\u001b[0m\u001b[0;34m)\u001b[0m\u001b[0;34m/\u001b[0m\u001b[0mf\u001b[0m\u001b[0;34m(\u001b[0m\u001b[0md\u001b[0m\u001b[0;34m,\u001b[0m \u001b[0;36m0\u001b[0m\u001b[0;34m)\u001b[0m\u001b[0;34m\u001b[0m\u001b[0;34m\u001b[0m\u001b[0m\n\u001b[0m\u001b[1;32m   1166\u001b[0m \u001b[0;34m\u001b[0m\u001b[0m\n\u001b[1;32m   1167\u001b[0m         \u001b[0margs\u001b[0m \u001b[0;34m=\u001b[0m \u001b[0mdefaultdict\u001b[0m\u001b[0;34m(\u001b[0m\u001b[0mlist\u001b[0m\u001b[0;34m)\u001b[0m\u001b[0;34m\u001b[0m\u001b[0;34m\u001b[0m\u001b[0m\n",
            "\u001b[0;32m/usr/local/lib/python3.7/dist-packages/sympy/simplify/fu.py\u001b[0m in \u001b[0;36mf\u001b[0;34m(rv, first)\u001b[0m\n\u001b[1;32m   1197\u001b[0m                         \u001b[0mkey\u001b[0m \u001b[0;34m=\u001b[0m \u001b[0mcos\u001b[0m\u001b[0;34m(\u001b[0m\u001b[0ma\u001b[0m\u001b[0;34m*\u001b[0m\u001b[0mcc\u001b[0m\u001b[0;34m,\u001b[0m \u001b[0mevaluate\u001b[0m\u001b[0;34m=\u001b[0m\u001b[0;32mFalse\u001b[0m\u001b[0;34m)\u001b[0m\u001b[0;34m\u001b[0m\u001b[0;34m\u001b[0m\u001b[0m\n\u001b[1;32m   1198\u001b[0m                         \u001b[0mccs\u001b[0m\u001b[0;34m.\u001b[0m\u001b[0mappend\u001b[0m\u001b[0;34m(\u001b[0m\u001b[0mcc\u001b[0m\u001b[0;34m)\u001b[0m\u001b[0;34m\u001b[0m\u001b[0;34m\u001b[0m\u001b[0m\n\u001b[0;32m-> 1199\u001b[0;31m                         \u001b[0mtake\u001b[0m \u001b[0;34m=\u001b[0m \u001b[0mmin\u001b[0m\u001b[0;34m(\u001b[0m\u001b[0mcoss\u001b[0m\u001b[0;34m[\u001b[0m\u001b[0mkey\u001b[0m\u001b[0;34m]\u001b[0m\u001b[0;34m,\u001b[0m \u001b[0mtake\u001b[0m \u001b[0;32mor\u001b[0m \u001b[0mcoss\u001b[0m\u001b[0;34m[\u001b[0m\u001b[0mkey\u001b[0m\u001b[0;34m]\u001b[0m\u001b[0;34m)\u001b[0m\u001b[0;34m\u001b[0m\u001b[0;34m\u001b[0m\u001b[0m\n\u001b[0m\u001b[1;32m   1200\u001b[0m                     \u001b[0;31m# update exponent counts\u001b[0m\u001b[0;34m\u001b[0m\u001b[0;34m\u001b[0m\u001b[0;34m\u001b[0m\u001b[0m\n\u001b[1;32m   1201\u001b[0m                     \u001b[0;32mfor\u001b[0m \u001b[0mi\u001b[0m \u001b[0;32min\u001b[0m \u001b[0mrange\u001b[0m\u001b[0;34m(\u001b[0m\u001b[0mk\u001b[0m\u001b[0;34m)\u001b[0m\u001b[0;34m:\u001b[0m\u001b[0;34m\u001b[0m\u001b[0;34m\u001b[0m\u001b[0m\n",
            "\u001b[0;31mKeyError\u001b[0m: cos(1.0*u)"
          ]
        }
      ],
      "source": [
        "simplify(C_122)"
      ]
    },
    {
      "cell_type": "markdown",
      "metadata": {
        "id": "cJAFPgJWNbm9"
      },
      "source": [
        "$Γ_{22}^1$"
      ]
    },
    {
      "cell_type": "code",
      "execution_count": null,
      "metadata": {
        "id": "k_YWaCWlKppm"
      },
      "outputs": [],
      "source": [
        "simplify(C_221)"
      ]
    },
    {
      "cell_type": "markdown",
      "metadata": {
        "id": "ZBF6y-trNerN"
      },
      "source": [
        "$Γ_{22}^2$"
      ]
    },
    {
      "cell_type": "code",
      "execution_count": null,
      "metadata": {
        "id": "rRskopgIK2eK"
      },
      "outputs": [],
      "source": [
        "simplify(C_222)"
      ]
    },
    {
      "cell_type": "markdown",
      "metadata": {
        "id": "NEQcL_c0S4DJ"
      },
      "source": [
        "# Ecuacion de las  lineas asintoticas \n",
        "ingrese las expresiones $u(t)$ , $v(t)$ para esta parte del codigo"
      ]
    },
    {
      "cell_type": "code",
      "execution_count": null,
      "metadata": {
        "colab": {
          "base_uri": "https://localhost:8080/"
        },
        "id": "lqvlyDPzTEi9",
        "outputId": "c66bb371-9a72-49fc-ce0d-ca8684f56ef5"
      },
      "outputs": [
        {
          "name": "stdout",
          "output_type": "stream",
          "text": [
            "u(t)\n",
            "v(t)\n"
          ]
        }
      ],
      "source": [
        "A=input()\n",
        "B=input()\n",
        "M=diff(A,t,1)\n",
        "N=diff(B,t,1)\n",
        "M_1=diff(A,t,2)\n",
        "N_1=diff(B,t,2)"
      ]
    },
    {
      "cell_type": "code",
      "execution_count": null,
      "metadata": {
        "colab": {
          "base_uri": "https://localhost:8080/",
          "height": 134
        },
        "id": "HovWRtMBbt8q",
        "outputId": "ba8a4aac-d300-4958-e1bd-832c2234d7c2"
      },
      "outputs": [
        {
          "data": {
            "image/png": "[encoded data removed]",
            "text/latex": "$\\displaystyle \\frac{2 \\left(\\left(- 4 u^{2} v^{2} + 2 u^{2} \\left(u^{2} + v^{2} + 1\\right) + 2 v^{2} \\left(u^{2} + v^{2} + 1\\right) + \\left(- u^{2} + v^{2} + 1\\right) \\left(u^{2} - v^{2} + 1\\right)\\right) \\left(\\frac{d}{d t} u{\\left(t \\right)}\\right)^{2} + \\left(4 u^{2} v^{2} - 2 u^{2} \\left(u^{2} + v^{2} + 1\\right) - 2 v^{2} \\left(u^{2} + v^{2} + 1\\right) - \\left(- u^{2} + v^{2} + 1\\right) \\left(u^{2} - v^{2} + 1\\right)\\right) \\left(\\frac{d}{d t} v{\\left(t \\right)}\\right)^{2}\\right)}{\\sqrt{\\left(4 u^{2} v^{2} + 4 u^{2} + \\left(- u^{2} + v^{2} + 1\\right)^{2}\\right) \\left(4 u^{2} v^{2} + 4 v^{2} + \\left(u^{2} - v^{2} + 1\\right)^{2}\\right)}} = 0$",
            "text/plain": [
              "  ⎛                                                                                                2                                                                                                 2⎞    \n",
              "  ⎜⎛     2  2      2 ⎛ 2    2    ⎞      2 ⎛ 2    2    ⎞   ⎛   2    2    ⎞ ⎛ 2    2    ⎞⎞ ⎛d       ⎞    ⎛   2  2      2 ⎛ 2    2    ⎞      2 ⎛ 2    2    ⎞   ⎛   2    2    ⎞ ⎛ 2    2    ⎞⎞ ⎛d       ⎞ ⎟    \n",
              "2⋅⎜⎝- 4⋅u ⋅v  + 2⋅u ⋅⎝u  + v  + 1⎠ + 2⋅v ⋅⎝u  + v  + 1⎠ + ⎝- u  + v  + 1⎠⋅⎝u  - v  + 1⎠⎠⋅⎜──(u(t))⎟  + ⎝4⋅u ⋅v  - 2⋅u ⋅⎝u  + v  + 1⎠ - 2⋅v ⋅⎝u  + v  + 1⎠ - ⎝- u  + v  + 1⎠⋅⎝u  - v  + 1⎠⎠⋅⎜──(v(t))⎟ ⎟    \n",
              "  ⎝                                                                                      ⎝dt      ⎠                                                                                        ⎝dt      ⎠ ⎠    \n",
              "─────────────────────────────────────────────────────────────────────────────────────────────────────────────────────────────────────────────────────────────────────────────────────────────────────── = 0\n",
              "                                                                  _______________________________________________________________________                                                                  \n",
              "                                                                 ╱ ⎛                                2⎞ ⎛                              2⎞                                                                   \n",
              "                                                                ╱  ⎜   2  2      2   ⎛   2    2    ⎞ ⎟ ⎜   2  2      2   ⎛ 2    2    ⎞ ⎟                                                                   \n",
              "                                                              ╲╱   ⎝4⋅u ⋅v  + 4⋅u  + ⎝- u  + v  + 1⎠ ⎠⋅⎝4⋅u ⋅v  + 4⋅v  + ⎝u  - v  + 1⎠ ⎠                                                                   "
            ]
          },
          "execution_count": 143,
          "metadata": {},
          "output_type": "execute_result"
        }
      ],
      "source": [
        "B_1=e*(M*M)-2*f*M*N+g*(N*N)\n",
        "B_1=simplify(B_1)\n",
        "eq1 = Eq(B_1,0)\n",
        "eq1"
      ]
    },
    {
      "cell_type": "markdown",
      "metadata": {
        "id": "-AOEFLwPeVym"
      },
      "source": [
        "# Ecuacion de las lineas de curvatura "
      ]
    },
    {
      "cell_type": "markdown",
      "metadata": {
        "id": "k-Yj-_1ifWqV"
      },
      "source": [
        "![image.png](data:image/png;base64,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)"
      ]
    },
    {
      "cell_type": "code",
      "execution_count": null,
      "metadata": {
        "colab": {
          "base_uri": "https://localhost:8080/",
          "height": 142
        },
        "id": "9v82jhbgfYTq",
        "outputId": "0c663a3f-ada3-4981-affc-b1810ce28bc2"
      },
      "outputs": [
        {
          "data": {
            "image/png": "[encoded data removed]",
            "text/latex": "$\\displaystyle \\left(\\frac{2 \\left(4 u^{2} v^{2} + 4 u^{2} + \\left(- u^{2} + v^{2} + 1\\right)^{2}\\right) \\left(4 u^{2} v^{2} - 2 u^{2} \\left(u^{2} + v^{2} + 1\\right) - 2 v^{2} \\left(u^{2} + v^{2} + 1\\right) - \\left(- u^{2} + v^{2} + 1\\right) \\left(u^{2} - v^{2} + 1\\right)\\right)}{\\sqrt{\\left(4 u^{2} v^{2} + 4 u^{2} + \\left(- u^{2} + v^{2} + 1\\right)^{2}\\right) \\left(4 u^{2} v^{2} + 4 v^{2} + \\left(u^{2} - v^{2} + 1\\right)^{2}\\right)}} - \\frac{2 \\left(4 u^{2} v^{2} + 4 v^{2} + \\left(u^{2} - v^{2} + 1\\right)^{2}\\right) \\left(- 4 u^{2} v^{2} + 2 u^{2} \\left(u^{2} + v^{2} + 1\\right) + 2 v^{2} \\left(u^{2} + v^{2} + 1\\right) + \\left(- u^{2} + v^{2} + 1\\right) \\left(u^{2} - v^{2} + 1\\right)\\right)}{\\sqrt{\\left(4 u^{2} v^{2} + 4 u^{2} + \\left(- u^{2} + v^{2} + 1\\right)^{2}\\right) \\left(4 u^{2} v^{2} + 4 v^{2} + \\left(u^{2} - v^{2} + 1\\right)^{2}\\right)}}\\right) \\frac{d}{d t} u{\\left(t \\right)} \\frac{d}{d t} v{\\left(t \\right)} = 0$",
            "text/plain": [
              "⎛  ⎛                                2⎞                                                                                         ⎛                              2⎞                                                                                      ⎞                      \n",
              "⎜  ⎜   2  2      2   ⎛   2    2    ⎞ ⎟ ⎛   2  2      2 ⎛ 2    2    ⎞      2 ⎛ 2    2    ⎞   ⎛   2    2    ⎞ ⎛ 2    2    ⎞⎞     ⎜   2  2      2   ⎛ 2    2    ⎞ ⎟ ⎛     2  2      2 ⎛ 2    2    ⎞      2 ⎛ 2    2    ⎞   ⎛   2    2    ⎞ ⎛ 2    2    ⎞⎞⎟                      \n",
              "⎜2⋅⎝4⋅u ⋅v  + 4⋅u  + ⎝- u  + v  + 1⎠ ⎠⋅⎝4⋅u ⋅v  - 2⋅u ⋅⎝u  + v  + 1⎠ - 2⋅v ⋅⎝u  + v  + 1⎠ - ⎝- u  + v  + 1⎠⋅⎝u  - v  + 1⎠⎠   2⋅⎝4⋅u ⋅v  + 4⋅v  + ⎝u  - v  + 1⎠ ⎠⋅⎝- 4⋅u ⋅v  + 2⋅u ⋅⎝u  + v  + 1⎠ + 2⋅v ⋅⎝u  + v  + 1⎠ + ⎝- u  + v  + 1⎠⋅⎝u  - v  + 1⎠⎠⎟ d        d           \n",
              "⎜───────────────────────────────────────────────────────────────────────────────────────────────────────────────────────── - ─────────────────────────────────────────────────────────────────────────────────────────────────────────────────────────⎟⋅──(u(t))⋅──(v(t)) = 0\n",
              "⎜                           _______________________________________________________________________                                                     _______________________________________________________________________                       ⎟ dt       dt          \n",
              "⎜                          ╱ ⎛                                2⎞ ⎛                              2⎞                                                     ╱ ⎛                                2⎞ ⎛                              2⎞                        ⎟                      \n",
              "⎜                         ╱  ⎜   2  2      2   ⎛   2    2    ⎞ ⎟ ⎜   2  2      2   ⎛ 2    2    ⎞ ⎟                                                    ╱  ⎜   2  2      2   ⎛   2    2    ⎞ ⎟ ⎜   2  2      2   ⎛ 2    2    ⎞ ⎟                        ⎟                      \n",
              "⎝                       ╲╱   ⎝4⋅u ⋅v  + 4⋅u  + ⎝- u  + v  + 1⎠ ⎠⋅⎝4⋅u ⋅v  + 4⋅v  + ⎝u  - v  + 1⎠ ⎠                                                  ╲╱   ⎝4⋅u ⋅v  + 4⋅u  + ⎝- u  + v  + 1⎠ ⎠⋅⎝4⋅u ⋅v  + 4⋅v  + ⎝u  - v  + 1⎠ ⎠                        ⎠                      "
            ]
          },
          "execution_count": 135,
          "metadata": {},
          "output_type": "execute_result"
        }
      ],
      "source": [
        "B_2=(f*E-e*f)*(M*M)+(g*E-e*G)*(N*M)+(g*F-f*G)*(N*N)\n",
        "eq2 = Eq(B_2,0)\n",
        "eq2\n"
      ]
    },
    {
      "cell_type": "markdown",
      "metadata": {
        "id": "2Ei-W5p0hceP"
      },
      "source": [
        "# Ecuaciones de las geodesicas "
      ]
    },
    {
      "cell_type": "code",
      "execution_count": null,
      "metadata": {
        "colab": {
          "base_uri": "https://localhost:8080/",
          "height": 60
        },
        "id": "4ekpGZZ4hiCk",
        "outputId": "1652d46c-8f0b-43e9-c914-6eb29098700b"
      },
      "outputs": [
        {
          "data": {
            "image/png": "[encoded data removed]",
            "text/latex": "$\\displaystyle \\frac{d^{2}}{d t^{2}} u{\\left(t \\right)} + \\frac{2.0 \\frac{d}{d v} f{\\left(v \\right)} \\frac{d}{d t} u{\\left(t \\right)} \\frac{d}{d t} v{\\left(t \\right)}}{f{\\left(v \\right)}} = 0$",
            "text/plain": [
              "                d        d        d           \n",
              "  2         2.0⋅──(f(v))⋅──(u(t))⋅──(v(t))    \n",
              " d              dv       dt       dt          \n",
              "───(u(t)) + ────────────────────────────── = 0\n",
              "  2                      f(v)                 \n",
              "dt                                            "
            ]
          },
          "execution_count": 37,
          "metadata": {},
          "output_type": "execute_result"
        }
      ],
      "source": [
        "B_3=M_1+C_111*(M_1*M_1)+2*C_121*(M*N)+C_221*(N*N)\n",
        "B_3=simplify(B_3)\n",
        "eq3 = Eq(B_3,0)\n",
        "eq3"
      ]
    },
    {
      "cell_type": "code",
      "execution_count": null,
      "metadata": {
        "colab": {
          "base_uri": "https://localhost:8080/",
          "height": 80
        },
        "id": "1DvZB1KJlOcO",
        "outputId": "a193a2f3-8e8b-4ea5-e175-5601699e6543"
      },
      "outputs": [
        {
          "data": {
            "image/png": "[encoded data removed]",
            "text/latex": "$\\displaystyle \\frac{1.0 \\left(\\frac{d}{d v} f{\\left(v \\right)} \\frac{d^{2}}{d v^{2}} f{\\left(v \\right)} + \\frac{d}{d v} g{\\left(v \\right)} \\frac{d^{2}}{d v^{2}} g{\\left(v \\right)}\\right) \\left(\\frac{d}{d t} v{\\left(t \\right)}\\right)^{2} + \\left(\\left(\\frac{d}{d v} f{\\left(v \\right)}\\right)^{2} + \\left(\\frac{d}{d v} g{\\left(v \\right)}\\right)^{2}\\right) \\frac{d^{2}}{d t^{2}} u{\\left(t \\right)} - 1.0 f{\\left(v \\right)} \\frac{d}{d v} f{\\left(v \\right)} \\left(\\frac{d^{2}}{d t^{2}} u{\\left(t \\right)}\\right)^{2}}{\\left(\\frac{d}{d v} f{\\left(v \\right)}\\right)^{2} + \\left(\\frac{d}{d v} g{\\left(v \\right)}\\right)^{2}} = 0$",
            "text/plain": [
              "                                                                                                                             2    \n",
              "    ⎛           2                    2      ⎞           2   ⎛          2             2⎞   2                       ⎛  2      ⎞     \n",
              "    ⎜d         d          d         d       ⎟ ⎛d       ⎞    ⎜⎛d       ⎞    ⎛d       ⎞ ⎟  d               d        ⎜ d       ⎟     \n",
              "1.0⋅⎜──(f(v))⋅───(f(v)) + ──(g(v))⋅───(g(v))⎟⋅⎜──(v(t))⎟  + ⎜⎜──(f(v))⎟  + ⎜──(g(v))⎟ ⎟⋅───(u(t)) - f(v)⋅──(f(v))⋅⎜───(u(t))⎟     \n",
              "    ⎜dv         2         dv         2      ⎟ ⎝dt      ⎠    ⎝⎝dv      ⎠    ⎝dv      ⎠ ⎠   2              dv       ⎜  2      ⎟     \n",
              "    ⎝         dv                   dv       ⎠                                           dt                        ⎝dt       ⎠     \n",
              "────────────────────────────────────────────────────────────────────────────────────────────────────────────────────────────── = 0\n",
              "                                                            2             2                                                       \n",
              "                                                  ⎛d       ⎞    ⎛d       ⎞                                                        \n",
              "                                                  ⎜──(f(v))⎟  + ⎜──(g(v))⎟                                                        \n",
              "                                                  ⎝dv      ⎠    ⎝dv      ⎠                                                        "
            ]
          },
          "execution_count": 42,
          "metadata": {},
          "output_type": "execute_result"
        }
      ],
      "source": [
        "B_4=M_1+C_112*(M_1*M_1)+2*C_122*(M*N)+C_222*(N*N)\n",
        "B_4=simplify(B_4)\n",
        "eq3 = Eq(B_4,0)\n",
        "eq3\n"
      ]
    },
    {
      "cell_type": "markdown",
      "metadata": {
        "id": "CZLDKcGeMEvW"
      },
      "source": [
        "# Ejemplo\n",
        "\n",
        "Para ello vamos a considerar las superficies de revolución"
      ]
    },
    {
      "cell_type": "markdown",
      "metadata": {
        "id": "Q8VNWgZzMHUX"
      },
      "source": [
        "\n",
        "**Superficies de revolución**\n",
        "\n",
        "Una superficie regular  se dirá que es de revolución si está generada por la rotación de una curva plana $C$ a la que llamamos generatriz, alrededor de un eje de revolución coplanario con $C$ . Para obtener una parametrización de la superficie de revolución consideramos una referencia donde la curva plana  C este contenida ,Tomaremos el plano  $xy$  como referencia  y Tomaremos a $y$ como el eje de rotación de  $C$ \n",
        "\n",
        "\\begin{equation*} \n",
        "\\begin{split}\n",
        " x=f(v) \\hspace{0.3 cm} ,  \\hspace{0.3 cm} y=g(v) \\hspace{0.3 cm} a\\leq v\\leq b ,\\hspace{0.3 cm} g(v)\\geq 0\n",
        "\\end{split}\n",
        "\\end{equation*}\n",
        "\n",
        "Una parametrización de  y denotemos  por   a  el ángulo de rotación de   alrededor del eje  obtenemos así la aplicación dada por\n",
        "\n",
        "\\begin{equation*} \n",
        "\\begin{split}\n",
        "X(u,v)= (f(v)\\cdot \\cos(u), f(v)\\cdot\\sin(u) , g(v) ) , \\hspace{0.3 cm} a\\leq v\\leq b ,\\hspace{0.3 cm}  u \\in  \\left [ 0,2\\pi \\right ]\n",
        "\\end{split}\n",
        "\\end{equation*}\n",
        "\n",
        " \n",
        "Para este ingrese en expresión1$=f(v)cos(u))$ ,expresión2$=f(v)sin(u)$ expresion3$=g(v)$"
      ]
    }
  ],
  "metadata": {
    "colab": {
      "name": "Untitled5.ipynb",
      "provenance": [],
      "authorship_tag": "ABX9TyPBpKaR3vcBYrmwadWQN7Ec",
      "include_colab_link": true
    },
    "kernelspec": {
      "display_name": "Python 3",
      "name": "python3"
    },
    "language_info": {
      "name": "python"
    }
  },
  "nbformat": 4,
  "nbformat_minor": 0
}