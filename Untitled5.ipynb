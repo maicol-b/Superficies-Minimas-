{
  "nbformat": 4,
  "nbformat_minor": 0,
  "metadata": {
    "colab": {
      "name": "Untitled5.ipynb",
      "provenance": []
    },
    "kernelspec": {
      "name": "python3",
      "display_name": "Python 3"
    },
    "language_info": {
      "name": "python"
    }
  },
  "cells": [
    {
      "cell_type": "markdown",
      "source": [
        "\n",
        "# **Propiedades geometricas de las superficies**\n",
        "\n"
      ],
      "metadata": {
        "id": "3e7BX0iF1c22"
      }
    },
    {
      "cell_type": "markdown",
      "source": [
        ">Objetivo: </strong> El objetivo de este cuaderno es obtener expresiones para los coeficientes de la primera , segunda forma fundamental. Así , como  para la curvatura de Gauss , la curvatura normal y  los símbolos de Chistifell dado la  parametrizacion de una superficie esto con el fin de ver propiedades geométricas de las superficies en particular lo relacionado con las superficies mínimas ,para realizar este objetivo vamos a  utilizar  el lenguaje de programación Python.  </p>\n"
      ],
      "metadata": {
        "id": "x7SP2_YF1UYW"
      }
    },
    {
      "cell_type": "markdown",
      "source": [
        "<h2>Indice</h2>\n",
        "\n",
        "<div class=\"alert alert-block alert-info\" style=\"margin-top: 20px\">\n",
        "<ul>\n",
        "  <li>Parametrizacion de una superficie </li>\n",
        "  <li>coeficientes de la primera forma fundamental </li>\n",
        "  <li>coheficientes de  la segunda forma fundamental </li>\n",
        "  <li>curvatura de gauss de una superficie </li>\n",
        "  <li>curvatura normal de una superficie </li>\n",
        "  <li>simbolos de chistofell</li>\n",
        "  <li>Ecuación de las lineas asintóticas  de una superficie  </li>\n",
        "  <li>Ecuación de las lineas de curvatura  de una superficie  </li>\n",
        "  <li>Ecuaciones de las geodésicas de una superficie  </li>\n",
        "  <li>Ejemplo</li>\n",
        "</ul>\n",
        "\n",
        "</div>\n",
        "<hr>"
      ],
      "metadata": {
        "id": "XOBwmUc61Y9p"
      }
    },
    {
      "cell_type": "markdown",
      "source": [
        "Un subconjunto  $S⊂R^3$  es una superficie regular si para toso $p \\in S $  existe un entorno $V\\in R^3$  y una aplicación   $X: U \\subset R^2 \\rightarrow R^3 \\cap V $ con  $ X(u, v) =\n",
        "(x(u, v), y(u, v), z(x, y))$.Para el cual \n",
        "\n",
        "\n",
        "*  $X$ es una funcion diferenciable es decir  sus funciones componentes $x(u, v), y(u, v), z(u, v) $ tienen derivadas parciales de todos los ordenes \n",
        "*    $X$  es un homeomorfismo \n",
        "*  Para todo  $q \\in U $ , la diferencial $dX_q$ es inyectiva \n",
        "\n",
        "ya obtenido la parametrizacion de la superficie el se debe ingresar en siguiente codigo \n"
      ],
      "metadata": {
        "id": "ic1oxvSF2dfU"
      }
    },
    {
      "cell_type": "code",
      "source": [
        "print('Digite parametrizacion de la superficie en funcion de  u,v :')\n",
        "\n",
        "print('x(u,v)')\n",
        "expresion1= input()\n",
        "print('y(u,v)')\n",
        "expresion2= input()\n",
        "print('z(u,v)')\n",
        "expresion3=input()"
      ],
      "metadata": {
        "colab": {
          "base_uri": "https://localhost:8080/"
        },
        "id": "O23JIaMasO3W",
        "outputId": "97e4ce9a-ce90-4061-8cd1-80981aecf463"
      },
      "execution_count": null,
      "outputs": [
        {
          "name": "stdout",
          "output_type": "stream",
          "text": [
            "Digite parametrizacion de la superficie en funcion de  u,v :\n",
            "x(u,v)\n",
            "f(v)*cos(u)\n",
            "y(u,v)\n",
            "f(v)*sin(u)\n",
            "z(u,v)\n",
            "g(v)\n"
          ]
        }
      ]
    },
    {
      "cell_type": "markdown",
      "source": [
        "::Vamos a utilizar la librería Pandas sympy ,numpy  de Python para realizar los calculos de una forma simbolica  . Le ponemos un alias <strong>pd</strong> para que sea más fácil utilizarla:"
      ],
      "metadata": {
        "id": "uJlQ2kJG5GlS"
      }
    },
    {
      "cell_type": "code",
      "source": [
        "import sympy\n",
        "from sympy.simplify.fu import as_f_sign_1\n",
        "from sympy import *\n",
        "import os \n",
        "import code \n",
        "from sympy.printing import latex\n",
        "import pandas as pd \n",
        "import numpy as np\n",
        "\n",
        "\n",
        "init_printing(pretty_print=True  ,wrap_line=False )\n",
        "half=Rational(1/2)\n",
        "\n",
        "#variables \n",
        "x,y,u,v,t=symbols('x y u v t')\n",
        "#constantes \n",
        "a,b,c,a_1,a_2,b_1,b_2,c_1,c_2,k,p,q,r =symbols('a b c a_1 a_2 b_1 b_2 c_1 c_2 k p q r ')\n",
        "#funciones \n",
        "X,X_u,X_v,f,g =symbols('X X_u X_v f g ')"
      ],
      "metadata": {
        "id": "JLipB7bF8SPN"
      },
      "execution_count": null,
      "outputs": []
    },
    {
      "cell_type": "markdown",
      "source": [
        "# Parametrizacion de la superficie "
      ],
      "metadata": {
        "id": "rbdZrQJh4MKS"
      }
    },
    {
      "cell_type": "code",
      "source": [
        "A_1=simplify(expresion1)\n",
        "A_2=simplify(expresion2)\n",
        "A_3=simplify(expresion3)\n",
        "\n",
        "Parametrizacion=[A_1,A_2,A_3]\n",
        "print('Parametrizacion de la superficie X(u,v)')\n",
        "Parametrizacion\n"
      ],
      "metadata": {
        "colab": {
          "base_uri": "https://localhost:8080/",
          "height": 56
        },
        "id": "rCHA80B5AQwj",
        "outputId": "24b9f81d-5a03-44d1-8a8a-b0605306ab95"
      },
      "execution_count": null,
      "outputs": [
        {
          "output_type": "stream",
          "name": "stdout",
          "text": [
            "Parametrizacion de la superficie X(u,v)\n"
          ]
        },
        {
          "output_type": "execute_result",
          "data": {
            "text/plain": [
              "[f(v)⋅cos(u), f(v)⋅sin(u), g(v)]"
            ],
            "image/png": "[encoded data removed]",
            "text/latex": "$\\displaystyle \\left[ f{\\left(v \\right)} \\cos{\\left(u \\right)}, \\  f{\\left(v \\right)} \\sin{\\left(u \\right)}, \\  g{\\left(v \\right)}\\right]$"
          },
          "metadata": {},
          "execution_count": 3
        }
      ]
    },
    {
      "cell_type": "markdown",
      "source": [
        "# Vectores tangentes y esxpresiones para $X_{uu}$ , $X_{uv}$ y $X_{vv}$"
      ],
      "metadata": {
        "id": "IMl5TDEO4jKJ"
      }
    },
    {
      "cell_type": "code",
      "source": [
        "x_u= diff(expresion1,u,1)\n",
        "y_u= diff(expresion2,u,1)\n",
        "z_u= diff(expresion3,u,1)\n",
        "\n",
        "#-----------------------------------------------------------------------\n",
        "x_v= diff(expresion1,v,1)\n",
        "y_v= diff(expresion2,v,1)\n",
        "z_v= diff(expresion3,v,1)\n",
        "#-----------------------------------------------------------------------\n",
        "x_uu= diff(expresion1,u,2)\n",
        "y_uu= diff(expresion2,u,2)\n",
        "z_uu= diff(expresion3,u,2)\n",
        "#-----------------------------------------------------------------------\n",
        "x_vv= diff(expresion1,v,2)\n",
        "y_vv= diff(expresion2,v,2)\n",
        "z_vv= diff(expresion3,v,2)\n",
        "#-----------------------------------------------------------------------\n",
        "x_uv= diff(expresion1,u,1,v,1)\n",
        "y_uv= diff(expresion2,u,1,v,1)\n",
        "z_uv= diff(expresion3,u,1,v,1)\n",
        "\n",
        "\n",
        "#-----------------------------------------------------------------------\n",
        "A_4=simplify(x_u)\n",
        "A_5=simplify(y_u)\n",
        "A_6=simplify(z_u)\n",
        "\n",
        "#-----------------------------------------------------------------------\n",
        "\n",
        "A_7=simplify(x_v)\n",
        "A_8=simplify(y_v)\n",
        "A_9=simplify(z_v)\n",
        "#-----------------------------------------------------------------------\n",
        "\n",
        "A_10=simplify(x_uu)\n",
        "A_11=simplify(y_uu)\n",
        "A_12=simplify(z_uu)\n",
        "#-----------------------------------------------------------------------\n",
        "\n",
        "A_13=simplify(x_vv)\n",
        "A_14=simplify(y_vv)\n",
        "A_15=simplify(z_vv)\n",
        "#-----------------------------------------------------------------------\n",
        "\n",
        "A_16=simplify(x_uv)\n",
        "A_17=simplify(y_uv)\n",
        "A_18=simplify(z_uv)\n",
        "#-----------------------------------------------------------------------\n",
        "\n"
      ],
      "metadata": {
        "id": "rHiEd81sDj50"
      },
      "execution_count": null,
      "outputs": []
    },
    {
      "cell_type": "markdown",
      "source": [
        "$X_u$"
      ],
      "metadata": {
        "id": "LXaEEa8mNozg"
      }
    },
    {
      "cell_type": "code",
      "source": [
        "Derivadau= [A_4,A_5,A_6]\n",
        "Derivadau\n",
        "\n"
      ],
      "metadata": {
        "colab": {
          "base_uri": "https://localhost:8080/",
          "height": 39
        },
        "id": "cAkVs1--by-q",
        "outputId": "2c006f19-297a-481e-f9a4-c95803317de8"
      },
      "execution_count": null,
      "outputs": [
        {
          "output_type": "execute_result",
          "data": {
            "text/plain": [
              "[-f(v)⋅sin(u), f(v)⋅cos(u), 0]"
            ],
            "image/png": "[encoded data removed]",
            "text/latex": "$\\displaystyle \\left[ - f{\\left(v \\right)} \\sin{\\left(u \\right)}, \\  f{\\left(v \\right)} \\cos{\\left(u \\right)}, \\  0\\right]$"
          },
          "metadata": {},
          "execution_count": 5
        }
      ]
    },
    {
      "cell_type": "markdown",
      "source": [
        "$X_v$"
      ],
      "metadata": {
        "id": "NdCT2OQkNr_Z"
      }
    },
    {
      "cell_type": "code",
      "source": [
        "Derivadav=[A_7,A_8,A_9]\n",
        "Derivadav"
      ],
      "metadata": {
        "colab": {
          "base_uri": "https://localhost:8080/",
          "height": 58
        },
        "id": "Rd6P4xl63DUc",
        "outputId": "c52f9c0b-6b64-43d1-e37e-f8eacca242f5"
      },
      "execution_count": null,
      "outputs": [
        {
          "output_type": "execute_result",
          "data": {
            "text/plain": [
              "⎡       d                d         d       ⎤\n",
              "⎢cos(u)⋅──(f(v)), sin(u)⋅──(f(v)), ──(g(v))⎥\n",
              "⎣       dv               dv        dv      ⎦"
            ],
            "image/png": "[encoded data removed]",
            "text/latex": "$\\displaystyle \\left[ \\cos{\\left(u \\right)} \\frac{d}{d v} f{\\left(v \\right)}, \\  \\sin{\\left(u \\right)} \\frac{d}{d v} f{\\left(v \\right)}, \\  \\frac{d}{d v} g{\\left(v \\right)}\\right]$"
          },
          "metadata": {},
          "execution_count": 6
        }
      ]
    },
    {
      "cell_type": "markdown",
      "source": [
        "$X_{uu}$"
      ],
      "metadata": {
        "id": "gNFKqQJBNwAI"
      }
    },
    {
      "cell_type": "code",
      "source": [
        "Derivadauu=[A_10,A_11,A_12]\n",
        "Derivadauu"
      ],
      "metadata": {
        "colab": {
          "base_uri": "https://localhost:8080/",
          "height": 39
        },
        "id": "Yrz-lLja3K7G",
        "outputId": "934a14d0-a281-4d97-f4e4-e2b939b89540"
      },
      "execution_count": null,
      "outputs": [
        {
          "output_type": "execute_result",
          "data": {
            "text/plain": [
              "[-f(v)⋅cos(u), -f(v)⋅sin(u), 0]"
            ],
            "image/png": "[encoded data removed]",
            "text/latex": "$\\displaystyle \\left[ - f{\\left(v \\right)} \\cos{\\left(u \\right)}, \\  - f{\\left(v \\right)} \\sin{\\left(u \\right)}, \\  0\\right]$"
          },
          "metadata": {},
          "execution_count": 7
        }
      ]
    },
    {
      "cell_type": "markdown",
      "source": [
        "$X_{vv}$"
      ],
      "metadata": {
        "id": "BdLWIw45N4NF"
      }
    },
    {
      "cell_type": "code",
      "source": [
        "Derivadavv=[A_13,A_14,A_15]\n",
        "Derivadavv"
      ],
      "metadata": {
        "colab": {
          "base_uri": "https://localhost:8080/",
          "height": 58
        },
        "id": "lSXiBPKD3Ud7",
        "outputId": "48474437-d5d5-4bed-bb03-2e4a0a8fc7d5"
      },
      "execution_count": null,
      "outputs": [
        {
          "output_type": "execute_result",
          "data": {
            "text/plain": [
              "⎡         2                 2          2      ⎤\n",
              "⎢        d                 d          d       ⎥\n",
              "⎢cos(u)⋅───(f(v)), sin(u)⋅───(f(v)), ───(g(v))⎥\n",
              "⎢         2                 2          2      ⎥\n",
              "⎣       dv                dv         dv       ⎦"
            ],
            "image/png": "[encoded data removed]",
            "text/latex": "$\\displaystyle \\left[ \\cos{\\left(u \\right)} \\frac{d^{2}}{d v^{2}} f{\\left(v \\right)}, \\  \\sin{\\left(u \\right)} \\frac{d^{2}}{d v^{2}} f{\\left(v \\right)}, \\  \\frac{d^{2}}{d v^{2}} g{\\left(v \\right)}\\right]$"
          },
          "metadata": {},
          "execution_count": 8
        }
      ]
    },
    {
      "cell_type": "markdown",
      "source": [
        "$X_{uv}$"
      ],
      "metadata": {
        "id": "v25Ckp8PN__N"
      }
    },
    {
      "cell_type": "code",
      "source": [
        "Derivadauv=[A_16,A_17,A_18]\n",
        "Derivadauv"
      ],
      "metadata": {
        "colab": {
          "base_uri": "https://localhost:8080/",
          "height": 58
        },
        "id": "KbHUO2tk3ZKk",
        "outputId": "3d48585f-91de-44b4-ad8b-db398126e920"
      },
      "execution_count": null,
      "outputs": [
        {
          "output_type": "execute_result",
          "data": {
            "text/plain": [
              "⎡        d                d          ⎤\n",
              "⎢-sin(u)⋅──(f(v)), cos(u)⋅──(f(v)), 0⎥\n",
              "⎣        dv               dv         ⎦"
            ],
            "image/png": "[encoded data removed]",
            "text/latex": "$\\displaystyle \\left[ - \\sin{\\left(u \\right)} \\frac{d}{d v} f{\\left(v \\right)}, \\  \\cos{\\left(u \\right)} \\frac{d}{d v} f{\\left(v \\right)}, \\  0\\right]$"
          },
          "metadata": {},
          "execution_count": 9
        }
      ]
    },
    {
      "cell_type": "markdown",
      "source": [
        "# **Coeficientes de la primera forma fundamental**\n",
        "\n",
        "\n",
        "\n",
        "\n"
      ],
      "metadata": {
        "id": "6drlWQ6v3l9k"
      }
    },
    {
      "cell_type": "code",
      "source": [
        "E=x_u*x_u+y_u*y_u+z_u*z_u\n",
        "F=x_u*x_v+y_u*y_v+z_u*z_v\n",
        "G=x_v*x_v+y_v*y_v+z_v*z_v\n",
        "\n"
      ],
      "metadata": {
        "id": "WMS-KRB--_-p"
      },
      "execution_count": null,
      "outputs": []
    },
    {
      "cell_type": "code",
      "source": [
        "print('E')\n",
        "E=simplify(E)\n",
        "E"
      ],
      "metadata": {
        "colab": {
          "base_uri": "https://localhost:8080/"
        },
        "id": "GydVOzQ24Egg",
        "outputId": "153157a8-236a-4f8e-9c9c-50a83b90202a"
      },
      "execution_count": null,
      "outputs": [
        {
          "output_type": "stream",
          "name": "stdout",
          "text": [
            "E\n"
          ]
        },
        {
          "output_type": "execute_result",
          "data": {
            "text/plain": [
              " 2   \n",
              "f (v)"
            ],
            "image/png": "[encoded data removed]",
            "text/latex": "$\\displaystyle f^{2}{\\left(v \\right)}$"
          },
          "metadata": {},
          "execution_count": 11
        }
      ]
    },
    {
      "cell_type": "code",
      "source": [
        "print('F')\n",
        "F=simplify(F)\n",
        "F"
      ],
      "metadata": {
        "colab": {
          "base_uri": "https://localhost:8080/"
        },
        "id": "f96iQ-HL50Rv",
        "outputId": "55dbc746-ec2f-4aae-e2e8-2e3126af53f5"
      },
      "execution_count": null,
      "outputs": [
        {
          "output_type": "stream",
          "name": "stdout",
          "text": [
            "F\n"
          ]
        },
        {
          "output_type": "execute_result",
          "data": {
            "text/plain": [
              "0"
            ],
            "image/png": "[encoded data removed]",
            "text/latex": "$\\displaystyle 0$"
          },
          "metadata": {},
          "execution_count": 12
        }
      ]
    },
    {
      "cell_type": "code",
      "source": [
        "print('G')\n",
        "G=simplify(G)\n",
        "G"
      ],
      "metadata": {
        "colab": {
          "base_uri": "https://localhost:8080/"
        },
        "id": "qT4aJ_za56lZ",
        "outputId": "0f5cc5e2-99e6-43b3-dad2-a2899b46a029"
      },
      "execution_count": null,
      "outputs": [
        {
          "output_type": "stream",
          "name": "stdout",
          "text": [
            "G\n"
          ]
        },
        {
          "output_type": "execute_result",
          "data": {
            "text/plain": [
              "          2             2\n",
              "⎛d       ⎞    ⎛d       ⎞ \n",
              "⎜──(f(v))⎟  + ⎜──(g(v))⎟ \n",
              "⎝dv      ⎠    ⎝dv      ⎠ "
            ],
            "image/png": "[encoded data removed]",
            "text/latex": "$\\displaystyle \\left(\\frac{d}{d v} f{\\left(v \\right)}\\right)^{2} + \\left(\\frac{d}{d v} g{\\left(v \\right)}\\right)^{2}$"
          },
          "metadata": {},
          "execution_count": 13
        }
      ]
    },
    {
      "cell_type": "markdown",
      "source": [
        "# Vector Normal"
      ],
      "metadata": {
        "id": "Gav_0qes8TY3"
      }
    },
    {
      "cell_type": "code",
      "source": [
        "N_1=(y_u*z_v-y_v*z_u)/sqrt(E*G-F**2)\n",
        "N_2=(z_u*x_v-x_u*z_v)/sqrt(E*G-F**2)\n",
        "N_3=(x_u*y_v-y_u*x_v)/sqrt(E*G-F**2)\n",
        "A_22=simplify(N_1)\n",
        "A_23=simplify(N_2)\n",
        "A_24=simplify(N_3)\n",
        "N=[A_22,A_23,A_24]\n",
        "print('N(u,v)')\n",
        "N\n"
      ],
      "metadata": {
        "colab": {
          "base_uri": "https://localhost:8080/"
        },
        "id": "kjgepyzP8Yl4",
        "outputId": "ec11e4f7-cdd4-4a90-d9fd-b76aecd4475c"
      },
      "execution_count": null,
      "outputs": [
        {
          "output_type": "stream",
          "name": "stdout",
          "text": [
            "N(u,v)\n"
          ]
        },
        {
          "output_type": "execute_result",
          "data": {
            "text/plain": [
              "⎡                      d                                         d                                     d                     ⎤\n",
              "⎢          f(v)⋅cos(u)⋅──(g(v))                      f(v)⋅sin(u)⋅──(g(v))                        -f(v)⋅──(f(v))              ⎥\n",
              "⎢                      dv                                        dv                                    dv                    ⎥\n",
              "⎢────────────────────────────────────────, ────────────────────────────────────────, ────────────────────────────────────────⎥\n",
              "⎢     ___________________________________       ___________________________________       ___________________________________⎥\n",
              "⎢    ╱ ⎛          2             2⎞             ╱ ⎛          2             2⎞             ╱ ⎛          2             2⎞       ⎥\n",
              "⎢   ╱  ⎜⎛d       ⎞    ⎛d       ⎞ ⎟  2         ╱  ⎜⎛d       ⎞    ⎛d       ⎞ ⎟  2         ╱  ⎜⎛d       ⎞    ⎛d       ⎞ ⎟  2    ⎥\n",
              "⎢  ╱   ⎜⎜──(f(v))⎟  + ⎜──(g(v))⎟ ⎟⋅f (v)     ╱   ⎜⎜──(f(v))⎟  + ⎜──(g(v))⎟ ⎟⋅f (v)     ╱   ⎜⎜──(f(v))⎟  + ⎜──(g(v))⎟ ⎟⋅f (v) ⎥\n",
              "⎣╲╱    ⎝⎝dv      ⎠    ⎝dv      ⎠ ⎠         ╲╱    ⎝⎝dv      ⎠    ⎝dv      ⎠ ⎠         ╲╱    ⎝⎝dv      ⎠    ⎝dv      ⎠ ⎠       ⎦"
            ],
            "image/png": "[encoded data removed]",
            "text/latex": "$\\displaystyle \\left[ \\frac{f{\\left(v \\right)} \\cos{\\left(u \\right)} \\frac{d}{d v} g{\\left(v \\right)}}{\\sqrt{\\left(\\left(\\frac{d}{d v} f{\\left(v \\right)}\\right)^{2} + \\left(\\frac{d}{d v} g{\\left(v \\right)}\\right)^{2}\\right) f^{2}{\\left(v \\right)}}}, \\  \\frac{f{\\left(v \\right)} \\sin{\\left(u \\right)} \\frac{d}{d v} g{\\left(v \\right)}}{\\sqrt{\\left(\\left(\\frac{d}{d v} f{\\left(v \\right)}\\right)^{2} + \\left(\\frac{d}{d v} g{\\left(v \\right)}\\right)^{2}\\right) f^{2}{\\left(v \\right)}}}, \\  - \\frac{f{\\left(v \\right)} \\frac{d}{d v} f{\\left(v \\right)}}{\\sqrt{\\left(\\left(\\frac{d}{d v} f{\\left(v \\right)}\\right)^{2} + \\left(\\frac{d}{d v} g{\\left(v \\right)}\\right)^{2}\\right) f^{2}{\\left(v \\right)}}}\\right]$"
          },
          "metadata": {},
          "execution_count": 14
        }
      ]
    },
    {
      "cell_type": "markdown",
      "source": [
        "# Coeficientes de la segunda forma fundamental "
      ],
      "metadata": {
        "id": "f9ckZGmy8GjK"
      }
    },
    {
      "cell_type": "code",
      "source": [
        "e=N_1*x_uu+N_2*y_uu+N_3*z_uu\n",
        "f=N_1*x_uv+N_2*y_uv+N_3*z_uv\n",
        "g=N_1*x_vv+N_2*y_vv+N_3*z_vv\n"
      ],
      "metadata": {
        "id": "taL3v82U8LIn"
      },
      "execution_count": null,
      "outputs": []
    },
    {
      "cell_type": "code",
      "source": [
        "print('e')\n",
        "e=simplify(e)\n",
        "e"
      ],
      "metadata": {
        "colab": {
          "base_uri": "https://localhost:8080/"
        },
        "id": "G1j02wIPDfO3",
        "outputId": "7c045fdd-f061-4d11-ce71-f8260129b75f"
      },
      "execution_count": null,
      "outputs": [
        {
          "output_type": "stream",
          "name": "stdout",
          "text": [
            "e\n"
          ]
        },
        {
          "output_type": "execute_result",
          "data": {
            "text/plain": [
              "              2    d                    \n",
              "            -f (v)⋅──(g(v))             \n",
              "                   dv                   \n",
              "────────────────────────────────────────\n",
              "     ___________________________________\n",
              "    ╱ ⎛          2             2⎞       \n",
              "   ╱  ⎜⎛d       ⎞    ⎛d       ⎞ ⎟  2    \n",
              "  ╱   ⎜⎜──(f(v))⎟  + ⎜──(g(v))⎟ ⎟⋅f (v) \n",
              "╲╱    ⎝⎝dv      ⎠    ⎝dv      ⎠ ⎠       "
            ],
            "image/png": "[encoded data removed]",
            "text/latex": "$\\displaystyle - \\frac{f^{2}{\\left(v \\right)} \\frac{d}{d v} g{\\left(v \\right)}}{\\sqrt{\\left(\\left(\\frac{d}{d v} f{\\left(v \\right)}\\right)^{2} + \\left(\\frac{d}{d v} g{\\left(v \\right)}\\right)^{2}\\right) f^{2}{\\left(v \\right)}}}$"
          },
          "metadata": {},
          "execution_count": 16
        }
      ]
    },
    {
      "cell_type": "code",
      "source": [
        "print('f')\n",
        "f=simplify(f)\n",
        "f"
      ],
      "metadata": {
        "colab": {
          "base_uri": "https://localhost:8080/"
        },
        "id": "i5Bs7J00Dlf8",
        "outputId": "3feb49c7-f422-4b5e-883e-963e6ab17d51"
      },
      "execution_count": null,
      "outputs": [
        {
          "output_type": "stream",
          "name": "stdout",
          "text": [
            "f\n"
          ]
        },
        {
          "output_type": "execute_result",
          "data": {
            "text/plain": [
              "0"
            ],
            "image/png": "[encoded data removed]",
            "text/latex": "$\\displaystyle 0$"
          },
          "metadata": {},
          "execution_count": 17
        }
      ]
    },
    {
      "cell_type": "code",
      "source": [
        "print('g')\n",
        "g=simplify(g)\n",
        "g"
      ],
      "metadata": {
        "colab": {
          "base_uri": "https://localhost:8080/"
        },
        "id": "OrVtN9n3Dp4D",
        "outputId": "9a229f67-3dde-45fe-96b7-6ca88c57ac94"
      },
      "execution_count": null,
      "outputs": [
        {
          "output_type": "stream",
          "name": "stdout",
          "text": [
            "g\n"
          ]
        },
        {
          "output_type": "execute_result",
          "data": {
            "text/plain": [
              "⎛             2           2               ⎞     \n",
              "⎜  d         d           d        d       ⎟     \n",
              "⎜- ──(f(v))⋅───(g(v)) + ───(f(v))⋅──(g(v))⎟⋅f(v)\n",
              "⎜  dv         2           2       dv      ⎟     \n",
              "⎝           dv          dv                ⎠     \n",
              "────────────────────────────────────────────────\n",
              "         ___________________________________    \n",
              "        ╱ ⎛          2             2⎞           \n",
              "       ╱  ⎜⎛d       ⎞    ⎛d       ⎞ ⎟  2        \n",
              "      ╱   ⎜⎜──(f(v))⎟  + ⎜──(g(v))⎟ ⎟⋅f (v)     \n",
              "    ╲╱    ⎝⎝dv      ⎠    ⎝dv      ⎠ ⎠           "
            ],
            "image/png": "[encoded data removed]",
            "text/latex": "$\\displaystyle \\frac{\\left(- \\frac{d}{d v} f{\\left(v \\right)} \\frac{d^{2}}{d v^{2}} g{\\left(v \\right)} + \\frac{d^{2}}{d v^{2}} f{\\left(v \\right)} \\frac{d}{d v} g{\\left(v \\right)}\\right) f{\\left(v \\right)}}{\\sqrt{\\left(\\left(\\frac{d}{d v} f{\\left(v \\right)}\\right)^{2} + \\left(\\frac{d}{d v} g{\\left(v \\right)}\\right)^{2}\\right) f^{2}{\\left(v \\right)}}}$"
          },
          "metadata": {},
          "execution_count": 18
        }
      ]
    },
    {
      "cell_type": "markdown",
      "source": [
        "# Curvatura de Gauss"
      ],
      "metadata": {
        "id": "IE04XchAIcMV"
      }
    },
    {
      "cell_type": "code",
      "source": [
        "K=(e*g-f**2)/(E*G-F**2)\n",
        "print('K')\n",
        "simplify(K)"
      ],
      "metadata": {
        "colab": {
          "base_uri": "https://localhost:8080/",
          "height": 103
        },
        "id": "2RBcQH2sIYOu",
        "outputId": "4b193e3b-34e2-4a87-d470-8016c161d677"
      },
      "execution_count": null,
      "outputs": [
        {
          "output_type": "stream",
          "name": "stdout",
          "text": [
            "K\n"
          ]
        },
        {
          "output_type": "execute_result",
          "data": {
            "text/plain": [
              "⎛           2           2               ⎞         \n",
              "⎜d         d           d        d       ⎟ d       \n",
              "⎜──(f(v))⋅───(g(v)) - ───(f(v))⋅──(g(v))⎟⋅──(g(v))\n",
              "⎜dv         2           2       dv      ⎟ dv      \n",
              "⎝         dv          dv                ⎠         \n",
              "──────────────────────────────────────────────────\n",
              "                                   2              \n",
              "        ⎛          2             2⎞               \n",
              "        ⎜⎛d       ⎞    ⎛d       ⎞ ⎟               \n",
              "        ⎜⎜──(f(v))⎟  + ⎜──(g(v))⎟ ⎟ ⋅f(v)         \n",
              "        ⎝⎝dv      ⎠    ⎝dv      ⎠ ⎠               "
            ],
            "image/png": "[encoded data removed]",
            "text/latex": "$\\displaystyle \\frac{\\left(\\frac{d}{d v} f{\\left(v \\right)} \\frac{d^{2}}{d v^{2}} g{\\left(v \\right)} - \\frac{d^{2}}{d v^{2}} f{\\left(v \\right)} \\frac{d}{d v} g{\\left(v \\right)}\\right) \\frac{d}{d v} g{\\left(v \\right)}}{\\left(\\left(\\frac{d}{d v} f{\\left(v \\right)}\\right)^{2} + \\left(\\frac{d}{d v} g{\\left(v \\right)}\\right)^{2}\\right)^{2} f{\\left(v \\right)}}$"
          },
          "metadata": {},
          "execution_count": 19
        }
      ]
    },
    {
      "cell_type": "markdown",
      "source": [
        "# Curvatura Normal"
      ],
      "metadata": {
        "id": "jgjKsS5vIpBM"
      }
    },
    {
      "cell_type": "code",
      "source": [
        "H= 1/2*(e*G-2*f*F+g*E)/(E*G-F**2)\n",
        "print('H')\n",
        "simplify(H)"
      ],
      "metadata": {
        "colab": {
          "base_uri": "https://localhost:8080/"
        },
        "id": "d5r9qCghIsi1",
        "outputId": "2e2ad725-db93-4f64-b55d-1108ddd1eaa9"
      },
      "execution_count": null,
      "outputs": [
        {
          "output_type": "stream",
          "name": "stdout",
          "text": [
            "H\n"
          ]
        },
        {
          "output_type": "execute_result",
          "data": {
            "text/plain": [
              "    ⎛⎛             2           2               ⎞        ⎛          2             2⎞         ⎞\n",
              "    ⎜⎜  d         d           d        d       ⎟        ⎜⎛d       ⎞    ⎛d       ⎞ ⎟ d       ⎟\n",
              "0.5⋅⎜⎜- ──(f(v))⋅───(g(v)) + ───(f(v))⋅──(g(v))⎟⋅f(v) - ⎜⎜──(f(v))⎟  + ⎜──(g(v))⎟ ⎟⋅──(g(v))⎟\n",
              "    ⎜⎜  dv         2           2       dv      ⎟        ⎝⎝dv      ⎠    ⎝dv      ⎠ ⎠ dv      ⎟\n",
              "    ⎝⎝           dv          dv                ⎠                                            ⎠\n",
              "─────────────────────────────────────────────────────────────────────────────────────────────\n",
              "                  ___________________________________                                        \n",
              "                 ╱ ⎛          2             2⎞        ⎛          2             2⎞            \n",
              "                ╱  ⎜⎛d       ⎞    ⎛d       ⎞ ⎟  2     ⎜⎛d       ⎞    ⎛d       ⎞ ⎟            \n",
              "               ╱   ⎜⎜──(f(v))⎟  + ⎜──(g(v))⎟ ⎟⋅f (v) ⋅⎜⎜──(f(v))⎟  + ⎜──(g(v))⎟ ⎟            \n",
              "             ╲╱    ⎝⎝dv      ⎠    ⎝dv      ⎠ ⎠        ⎝⎝dv      ⎠    ⎝dv      ⎠ ⎠            "
            ],
            "image/png": "[encoded data removed]",
            "text/latex": "$\\displaystyle \\frac{0.5 \\left(\\left(- \\frac{d}{d v} f{\\left(v \\right)} \\frac{d^{2}}{d v^{2}} g{\\left(v \\right)} + \\frac{d^{2}}{d v^{2}} f{\\left(v \\right)} \\frac{d}{d v} g{\\left(v \\right)}\\right) f{\\left(v \\right)} - \\left(\\left(\\frac{d}{d v} f{\\left(v \\right)}\\right)^{2} + \\left(\\frac{d}{d v} g{\\left(v \\right)}\\right)^{2}\\right) \\frac{d}{d v} g{\\left(v \\right)}\\right)}{\\sqrt{\\left(\\left(\\frac{d}{d v} f{\\left(v \\right)}\\right)^{2} + \\left(\\frac{d}{d v} g{\\left(v \\right)}\\right)^{2}\\right) f^{2}{\\left(v \\right)}} \\left(\\left(\\frac{d}{d v} f{\\left(v \\right)}\\right)^{2} + \\left(\\frac{d}{d v} g{\\left(v \\right)}\\right)^{2}\\right)}$"
          },
          "metadata": {},
          "execution_count": 20
        }
      ]
    },
    {
      "cell_type": "markdown",
      "source": [
        "# Simbolos de chistifell"
      ],
      "metadata": {
        "id": "rNG5_i3LIzDP"
      }
    },
    {
      "cell_type": "code",
      "source": [
        "E_u= diff(E,u,1)\n",
        "F_u= diff(F,u,1)\n",
        "G_u= diff(G,u,1)\n",
        "#-----------------------------------------------------------------------\n",
        "E_v= diff(E,v,1)\n",
        "F_v= diff(F,v,1)\n",
        "G_v= diff(G,v,1)\n",
        "#-----------------------------------------------------------------------\n",
        "C_111=(0.5*E_u*G-(F_u*-0.5*E_v)*F)/(E*G-F**2)\n",
        "C_112=((F_u-0.5*E_v)*E-0.5*E_u*F)/(E*G-F**2)\n",
        "C_121=(0.5*E_v*G-0.5*G_u*F)/(E*G-F**2)\n",
        "C_122=(0.5*G_u*E-0.5*E_v*F)/(E*G-F**2)\n",
        "C_221=((F_v-0.5*G_u)*G-0.5*G_v*F)/(E*G-F**2)\n",
        "C_222=(0.5*G_v*E-(F_v-0.5*G_u)*F)/(E*G-F**2)\n"
      ],
      "metadata": {
        "id": "TP3SlmnII2Pc"
      },
      "execution_count": null,
      "outputs": []
    },
    {
      "cell_type": "markdown",
      "source": [
        " $Γ_{11}^2$"
      ],
      "metadata": {
        "id": "jliWk1vxMj4c"
      }
    },
    {
      "cell_type": "code",
      "source": [
        "simplify(C_111)"
      ],
      "metadata": {
        "colab": {
          "base_uri": "https://localhost:8080/"
        },
        "id": "cZqeigCEKLeQ",
        "outputId": "d8ac12f9-7c8d-422d-ce1a-68cef917a3d1"
      },
      "execution_count": null,
      "outputs": [
        {
          "output_type": "execute_result",
          "data": {
            "text/plain": [
              "0"
            ],
            "image/png": "[encoded data removed]",
            "text/latex": "$\\displaystyle 0$"
          },
          "metadata": {},
          "execution_count": 22
        }
      ]
    },
    {
      "cell_type": "markdown",
      "source": [
        " $Γ_{11}^2$"
      ],
      "metadata": {
        "id": "PKSXykCCMnYD"
      }
    },
    {
      "cell_type": "code",
      "source": [
        "simplify(C_112)"
      ],
      "metadata": {
        "colab": {
          "base_uri": "https://localhost:8080/"
        },
        "id": "RsAcpoV5KUH7",
        "outputId": "ed65738f-f81e-4504-cd44-3bdfee3ff062"
      },
      "execution_count": null,
      "outputs": [
        {
          "output_type": "execute_result",
          "data": {
            "text/plain": [
              "             d           \n",
              "   -1.0⋅f(v)⋅──(f(v))    \n",
              "             dv          \n",
              "─────────────────────────\n",
              "          2             2\n",
              "⎛d       ⎞    ⎛d       ⎞ \n",
              "⎜──(f(v))⎟  + ⎜──(g(v))⎟ \n",
              "⎝dv      ⎠    ⎝dv      ⎠ "
            ],
            "image/png": "[encoded data removed]",
            "text/latex": "$\\displaystyle - \\frac{1.0 f{\\left(v \\right)} \\frac{d}{d v} f{\\left(v \\right)}}{\\left(\\frac{d}{d v} f{\\left(v \\right)}\\right)^{2} + \\left(\\frac{d}{d v} g{\\left(v \\right)}\\right)^{2}}$"
          },
          "metadata": {},
          "execution_count": 23
        }
      ]
    },
    {
      "cell_type": "markdown",
      "source": [
        "$Γ_{12}^1$"
      ],
      "metadata": {
        "id": "0kHQTyPnMvND"
      }
    },
    {
      "cell_type": "code",
      "source": [
        "simplify(C_121)"
      ],
      "metadata": {
        "colab": {
          "base_uri": "https://localhost:8080/"
        },
        "id": "rdDfpYt3KYtp",
        "outputId": "dfa9a56b-0d8b-4e23-b01d-930a2ae66bad"
      },
      "execution_count": null,
      "outputs": [
        {
          "output_type": "execute_result",
          "data": {
            "text/plain": [
              "    d       \n",
              "1.0⋅──(f(v))\n",
              "    dv      \n",
              "────────────\n",
              "    f(v)    "
            ],
            "image/png": "[encoded data removed]",
            "text/latex": "$\\displaystyle \\frac{1.0 \\frac{d}{d v} f{\\left(v \\right)}}{f{\\left(v \\right)}}$"
          },
          "metadata": {},
          "execution_count": 24
        }
      ]
    },
    {
      "cell_type": "markdown",
      "source": [
        "$Γ_{12}^2$"
      ],
      "metadata": {
        "id": "sUVjBfwHM_ZN"
      }
    },
    {
      "cell_type": "code",
      "source": [
        "simplify(C_122)"
      ],
      "metadata": {
        "colab": {
          "base_uri": "https://localhost:8080/"
        },
        "id": "R_E9404GKiGn",
        "outputId": "c8fa45af-613b-44b1-da79-f9cf1ca792ff"
      },
      "execution_count": null,
      "outputs": [
        {
          "output_type": "execute_result",
          "data": {
            "text/plain": [
              "0"
            ],
            "image/png": "[encoded data removed]",
            "text/latex": "$\\displaystyle 0$"
          },
          "metadata": {},
          "execution_count": 25
        }
      ]
    },
    {
      "cell_type": "markdown",
      "source": [
        "$Γ_{22}^1$"
      ],
      "metadata": {
        "id": "cJAFPgJWNbm9"
      }
    },
    {
      "cell_type": "code",
      "source": [
        "simplify(C_221)"
      ],
      "metadata": {
        "colab": {
          "base_uri": "https://localhost:8080/"
        },
        "id": "k_YWaCWlKppm",
        "outputId": "23a62695-5af5-4311-9a58-01faf026cd90"
      },
      "execution_count": null,
      "outputs": [
        {
          "output_type": "execute_result",
          "data": {
            "text/plain": [
              "0"
            ],
            "image/png": "[encoded data removed]",
            "text/latex": "$\\displaystyle 0$"
          },
          "metadata": {},
          "execution_count": 26
        }
      ]
    },
    {
      "cell_type": "markdown",
      "source": [
        "$Γ_{22}^2$"
      ],
      "metadata": {
        "id": "ZBF6y-trNerN"
      }
    },
    {
      "cell_type": "code",
      "source": [
        "simplify(C_222)"
      ],
      "metadata": {
        "colab": {
          "base_uri": "https://localhost:8080/"
        },
        "id": "rRskopgIK2eK",
        "outputId": "ab784f77-52e7-4e3a-dc8e-bcd69ced7d98"
      },
      "execution_count": null,
      "outputs": [
        {
          "output_type": "execute_result",
          "data": {
            "text/plain": [
              "    ⎛           2                    2      ⎞\n",
              "    ⎜d         d          d         d       ⎟\n",
              "1.0⋅⎜──(f(v))⋅───(f(v)) + ──(g(v))⋅───(g(v))⎟\n",
              "    ⎜dv         2         dv         2      ⎟\n",
              "    ⎝         dv                   dv       ⎠\n",
              "─────────────────────────────────────────────\n",
              "                    2             2          \n",
              "          ⎛d       ⎞    ⎛d       ⎞           \n",
              "          ⎜──(f(v))⎟  + ⎜──(g(v))⎟           \n",
              "          ⎝dv      ⎠    ⎝dv      ⎠           "
            ],
            "image/png": "[encoded data removed]",
            "text/latex": "$\\displaystyle \\frac{1.0 \\left(\\frac{d}{d v} f{\\left(v \\right)} \\frac{d^{2}}{d v^{2}} f{\\left(v \\right)} + \\frac{d}{d v} g{\\left(v \\right)} \\frac{d^{2}}{d v^{2}} g{\\left(v \\right)}\\right)}{\\left(\\frac{d}{d v} f{\\left(v \\right)}\\right)^{2} + \\left(\\frac{d}{d v} g{\\left(v \\right)}\\right)^{2}}$"
          },
          "metadata": {},
          "execution_count": 27
        }
      ]
    },
    {
      "cell_type": "markdown",
      "source": [
        "# Ecuacion de las  lineas asintoticas \n",
        "ingrese las expresiones $u(t)$ , $v(t)$ para esta parte del codigo"
      ],
      "metadata": {
        "id": "NEQcL_c0S4DJ"
      }
    },
    {
      "cell_type": "code",
      "source": [
        "A=input()\n",
        "B=input()\n",
        "M=diff(A,t,1)\n",
        "N=diff(B,t,1)\n",
        "M_1=diff(A,t,2)\n",
        "N_1=diff(B,t,2)"
      ],
      "metadata": {
        "colab": {
          "base_uri": "https://localhost:8080/"
        },
        "id": "lqvlyDPzTEi9",
        "outputId": "271b66f8-f57d-487c-86bf-a774203636d3"
      },
      "execution_count": null,
      "outputs": [
        {
          "name": "stdout",
          "output_type": "stream",
          "text": [
            "u(t)\n",
            "v(t)\n"
          ]
        }
      ]
    },
    {
      "cell_type": "code",
      "source": [
        "B_1=e*(M*M)-2*f*M*N+g*(N*N)\n",
        "B_1=simplify(B_1)\n",
        "eq1 = Eq(B_1,0)\n",
        "eq1"
      ],
      "metadata": {
        "colab": {
          "base_uri": "https://localhost:8080/",
          "height": 94
        },
        "id": "HovWRtMBbt8q",
        "outputId": "ecc69ea9-066f-411a-ed81-968aec3af029"
      },
      "execution_count": null,
      "outputs": [
        {
          "output_type": "execute_result",
          "data": {
            "text/plain": [
              "⎛⎛             2           2               ⎞           2                           2⎞         \n",
              "⎜⎜  d         d           d        d       ⎟ ⎛d       ⎞         d        ⎛d       ⎞ ⎟         \n",
              "⎜⎜- ──(f(v))⋅───(g(v)) + ───(f(v))⋅──(g(v))⎟⋅⎜──(v(t))⎟  - f(v)⋅──(g(v))⋅⎜──(u(t))⎟ ⎟⋅f(v)    \n",
              "⎜⎜  dv         2           2       dv      ⎟ ⎝dt      ⎠         dv       ⎝dt      ⎠ ⎟         \n",
              "⎝⎝           dv          dv                ⎠                                        ⎠         \n",
              "────────────────────────────────────────────────────────────────────────────────────────── = 0\n",
              "                              ___________________________________                             \n",
              "                             ╱ ⎛          2             2⎞                                    \n",
              "                            ╱  ⎜⎛d       ⎞    ⎛d       ⎞ ⎟  2                                 \n",
              "                           ╱   ⎜⎜──(f(v))⎟  + ⎜──(g(v))⎟ ⎟⋅f (v)                              \n",
              "                         ╲╱    ⎝⎝dv      ⎠    ⎝dv      ⎠ ⎠                                    "
            ],
            "image/png": "[encoded data removed]",
            "text/latex": "$\\displaystyle \\frac{\\left(\\left(- \\frac{d}{d v} f{\\left(v \\right)} \\frac{d^{2}}{d v^{2}} g{\\left(v \\right)} + \\frac{d^{2}}{d v^{2}} f{\\left(v \\right)} \\frac{d}{d v} g{\\left(v \\right)}\\right) \\left(\\frac{d}{d t} v{\\left(t \\right)}\\right)^{2} - f{\\left(v \\right)} \\frac{d}{d v} g{\\left(v \\right)} \\left(\\frac{d}{d t} u{\\left(t \\right)}\\right)^{2}\\right) f{\\left(v \\right)}}{\\sqrt{\\left(\\left(\\frac{d}{d v} f{\\left(v \\right)}\\right)^{2} + \\left(\\frac{d}{d v} g{\\left(v \\right)}\\right)^{2}\\right) f^{2}{\\left(v \\right)}}} = 0$"
          },
          "metadata": {},
          "execution_count": 35
        }
      ]
    },
    {
      "cell_type": "markdown",
      "source": [
        "# Ecuacion de las lineas de curvatura "
      ],
      "metadata": {
        "id": "-AOEFLwPeVym"
      }
    },
    {
      "cell_type": "markdown",
      "source": [
        "![image.png](data:image/png;base64,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)"
      ],
      "metadata": {
        "id": "k-Yj-_1ifWqV"
      }
    },
    {
      "cell_type": "code",
      "source": [
        "B_2=(f*E-e*f)*(M*M)+(g*E-e*G)*(N*M)+(g*F-f*G)*(N*N)\n",
        "eq2 = Eq(B_2,0)\n",
        "eq2\n"
      ],
      "metadata": {
        "colab": {
          "base_uri": "https://localhost:8080/",
          "height": 102
        },
        "id": "9v82jhbgfYTq",
        "outputId": "3723c33d-f5f8-4137-9992-a173ed16763b"
      },
      "execution_count": null,
      "outputs": [
        {
          "output_type": "execute_result",
          "data": {
            "text/plain": [
              "⎛⎛             2           2               ⎞                                                   ⎞                      \n",
              "⎜⎜  d         d           d        d       ⎟  3      ⎛          2             2⎞               ⎟                      \n",
              "⎜⎜- ──(f(v))⋅───(g(v)) + ───(f(v))⋅──(g(v))⎟⋅f (v)   ⎜⎛d       ⎞    ⎛d       ⎞ ⎟  2    d       ⎟                      \n",
              "⎜⎜  dv         2           2       dv      ⎟         ⎜⎜──(f(v))⎟  + ⎜──(g(v))⎟ ⎟⋅f (v)⋅──(g(v))⎟                      \n",
              "⎜⎝           dv          dv                ⎠         ⎝⎝dv      ⎠    ⎝dv      ⎠ ⎠       dv      ⎟ d        d           \n",
              "⎜───────────────────────────────────────────────── + ──────────────────────────────────────────⎟⋅──(u(t))⋅──(v(t)) = 0\n",
              "⎜          ___________________________________             ___________________________________ ⎟ dt       dt          \n",
              "⎜         ╱ ⎛          2             2⎞                   ╱ ⎛          2             2⎞        ⎟                      \n",
              "⎜        ╱  ⎜⎛d       ⎞    ⎛d       ⎞ ⎟  2               ╱  ⎜⎛d       ⎞    ⎛d       ⎞ ⎟  2     ⎟                      \n",
              "⎜       ╱   ⎜⎜──(f(v))⎟  + ⎜──(g(v))⎟ ⎟⋅f (v)           ╱   ⎜⎜──(f(v))⎟  + ⎜──(g(v))⎟ ⎟⋅f (v)  ⎟                      \n",
              "⎝     ╲╱    ⎝⎝dv      ⎠    ⎝dv      ⎠ ⎠               ╲╱    ⎝⎝dv      ⎠    ⎝dv      ⎠ ⎠        ⎠                      "
            ],
            "image/png": "[encoded data removed]",
            "text/latex": "$\\displaystyle \\left(\\frac{\\left(- \\frac{d}{d v} f{\\left(v \\right)} \\frac{d^{2}}{d v^{2}} g{\\left(v \\right)} + \\frac{d^{2}}{d v^{2}} f{\\left(v \\right)} \\frac{d}{d v} g{\\left(v \\right)}\\right) f^{3}{\\left(v \\right)}}{\\sqrt{\\left(\\left(\\frac{d}{d v} f{\\left(v \\right)}\\right)^{2} + \\left(\\frac{d}{d v} g{\\left(v \\right)}\\right)^{2}\\right) f^{2}{\\left(v \\right)}}} + \\frac{\\left(\\left(\\frac{d}{d v} f{\\left(v \\right)}\\right)^{2} + \\left(\\frac{d}{d v} g{\\left(v \\right)}\\right)^{2}\\right) f^{2}{\\left(v \\right)} \\frac{d}{d v} g{\\left(v \\right)}}{\\sqrt{\\left(\\left(\\frac{d}{d v} f{\\left(v \\right)}\\right)^{2} + \\left(\\frac{d}{d v} g{\\left(v \\right)}\\right)^{2}\\right) f^{2}{\\left(v \\right)}}}\\right) \\frac{d}{d t} u{\\left(t \\right)} \\frac{d}{d t} v{\\left(t \\right)} = 0$"
          },
          "metadata": {},
          "execution_count": 36
        }
      ]
    },
    {
      "cell_type": "markdown",
      "source": [
        "# Ecuaciones de las geodesicas "
      ],
      "metadata": {
        "id": "2Ei-W5p0hceP"
      }
    },
    {
      "cell_type": "code",
      "source": [
        "B_3=M_1+C_111*(M_1*M_1)+2*C_121*(M*N)+C_221*(N*N)\n",
        "B_3=simplify(B_3)\n",
        "eq3 = Eq(B_3,0)\n",
        "eq3"
      ],
      "metadata": {
        "colab": {
          "base_uri": "https://localhost:8080/",
          "height": 60
        },
        "id": "4ekpGZZ4hiCk",
        "outputId": "1652d46c-8f0b-43e9-c914-6eb29098700b"
      },
      "execution_count": null,
      "outputs": [
        {
          "output_type": "execute_result",
          "data": {
            "text/plain": [
              "                d        d        d           \n",
              "  2         2.0⋅──(f(v))⋅──(u(t))⋅──(v(t))    \n",
              " d              dv       dt       dt          \n",
              "───(u(t)) + ────────────────────────────── = 0\n",
              "  2                      f(v)                 \n",
              "dt                                            "
            ],
            "image/png": "[encoded data removed]",
            "text/latex": "$\\displaystyle \\frac{d^{2}}{d t^{2}} u{\\left(t \\right)} + \\frac{2.0 \\frac{d}{d v} f{\\left(v \\right)} \\frac{d}{d t} u{\\left(t \\right)} \\frac{d}{d t} v{\\left(t \\right)}}{f{\\left(v \\right)}} = 0$"
          },
          "metadata": {},
          "execution_count": 37
        }
      ]
    },
    {
      "cell_type": "code",
      "source": [
        "B_4=M_1+C_112*(M_1*M_1)+2*C_122*(M*N)+C_222*(N*N)\n",
        "B_4=simplify(B_4)\n",
        "eq3 = Eq(B_4,0)\n",
        "eq3\n"
      ],
      "metadata": {
        "colab": {
          "base_uri": "https://localhost:8080/",
          "height": 80
        },
        "id": "1DvZB1KJlOcO",
        "outputId": "a193a2f3-8e8b-4ea5-e175-5601699e6543"
      },
      "execution_count": null,
      "outputs": [
        {
          "output_type": "execute_result",
          "data": {
            "text/plain": [
              "                                                                                                                             2    \n",
              "    ⎛           2                    2      ⎞           2   ⎛          2             2⎞   2                       ⎛  2      ⎞     \n",
              "    ⎜d         d          d         d       ⎟ ⎛d       ⎞    ⎜⎛d       ⎞    ⎛d       ⎞ ⎟  d               d        ⎜ d       ⎟     \n",
              "1.0⋅⎜──(f(v))⋅───(f(v)) + ──(g(v))⋅───(g(v))⎟⋅⎜──(v(t))⎟  + ⎜⎜──(f(v))⎟  + ⎜──(g(v))⎟ ⎟⋅───(u(t)) - f(v)⋅──(f(v))⋅⎜───(u(t))⎟     \n",
              "    ⎜dv         2         dv         2      ⎟ ⎝dt      ⎠    ⎝⎝dv      ⎠    ⎝dv      ⎠ ⎠   2              dv       ⎜  2      ⎟     \n",
              "    ⎝         dv                   dv       ⎠                                           dt                        ⎝dt       ⎠     \n",
              "────────────────────────────────────────────────────────────────────────────────────────────────────────────────────────────── = 0\n",
              "                                                            2             2                                                       \n",
              "                                                  ⎛d       ⎞    ⎛d       ⎞                                                        \n",
              "                                                  ⎜──(f(v))⎟  + ⎜──(g(v))⎟                                                        \n",
              "                                                  ⎝dv      ⎠    ⎝dv      ⎠                                                        "
            ],
            "image/png": "[encoded data removed]",
            "text/latex": "$\\displaystyle \\frac{1.0 \\left(\\frac{d}{d v} f{\\left(v \\right)} \\frac{d^{2}}{d v^{2}} f{\\left(v \\right)} + \\frac{d}{d v} g{\\left(v \\right)} \\frac{d^{2}}{d v^{2}} g{\\left(v \\right)}\\right) \\left(\\frac{d}{d t} v{\\left(t \\right)}\\right)^{2} + \\left(\\left(\\frac{d}{d v} f{\\left(v \\right)}\\right)^{2} + \\left(\\frac{d}{d v} g{\\left(v \\right)}\\right)^{2}\\right) \\frac{d^{2}}{d t^{2}} u{\\left(t \\right)} - 1.0 f{\\left(v \\right)} \\frac{d}{d v} f{\\left(v \\right)} \\left(\\frac{d^{2}}{d t^{2}} u{\\left(t \\right)}\\right)^{2}}{\\left(\\frac{d}{d v} f{\\left(v \\right)}\\right)^{2} + \\left(\\frac{d}{d v} g{\\left(v \\right)}\\right)^{2}} = 0$"
          },
          "metadata": {},
          "execution_count": 42
        }
      ]
    },
    {
      "cell_type": "markdown",
      "source": [
        "# Ejemplo\n",
        "\n",
        "Para ello vamos a considerar las superficies de revolución"
      ],
      "metadata": {
        "id": "CZLDKcGeMEvW"
      }
    },
    {
      "cell_type": "markdown",
      "source": [
        "\n",
        "**Superficies de revolución**\n",
        "\n",
        "Una superficie regular  se dirá que es de revolución si está generada por la rotación de una curva plana $C$ a la que llamamos generatriz, alrededor de un eje de revolución coplanario con $C$ . Para obtener una parametrización de la superficie de revolución consideramos una referencia donde la curva plana  C este contenida ,Tomaremos el plano  $xy$  como referencia  y Tomaremos a $y$ como el eje de rotación de  $C$ \n",
        "\n",
        "\\begin{equation*} \n",
        "\\begin{split}\n",
        " x=f(v) \\hspace{0.3 cm} ,  \\hspace{0.3 cm} y=g(v) \\hspace{0.3 cm} a\\leq v\\leq b ,\\hspace{0.3 cm} g(v)\\geq 0\n",
        "\\end{split}\n",
        "\\end{equation*}\n",
        "\n",
        "Una parametrización de  y denotemos  por   a  el ángulo de rotación de   alrededor del eje  obtenemos así la aplicación dada por\n",
        "\n",
        "\\begin{equation*} \n",
        "\\begin{split}\n",
        "X(u,v)= (f(v)\\cdot \\cos(u), f(v)\\cdot\\sin(u) , g(v) ) , \\hspace{0.3 cm} a\\leq v\\leq b ,\\hspace{0.3 cm}  u \\in  \\left [ 0,2\\pi \\right ]\n",
        "\\end{split}\n",
        "\\end{equation*}\n",
        "\n",
        " \n",
        "Para este ingrese en expresión1$=f(v)cos(u))$ ,expresión2$=f(v)sin(u)$ expresion3$=g(v)$"
      ],
      "metadata": {
        "id": "Q8VNWgZzMHUX"
      }
    }
  ]
}